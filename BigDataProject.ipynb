{
 "cells": [
  {
   "cell_type": "markdown",
   "id": "f841174e-f667-4ce2-9048-e16d54bec315",
   "metadata": {},
   "source": [
    "# Imports"
   ]
  },
  {
   "cell_type": "code",
   "execution_count": 2,
   "id": "11ca661a-a5b0-45da-aa6f-3462c690558e",
   "metadata": {},
   "outputs": [],
   "source": [
    "from pyspark.sql import SparkSession\n",
    "from pyspark import SparkContext\n",
    "import pyspark.sql.functions as F\n",
    "import matplotlib.pyplot as plt\n",
    "import pandas as pd\n",
    "import numpy as np\n",
    "import seaborn as sns\n",
    "from pyspark.ml.stat import Correlation\n",
    "from pyspark.ml.feature import VectorAssembler\n",
    "from pyspark.ml.classification import LogisticRegression, RandomForestClassifier, GBTClassifier, \\\n",
    "                                        LogisticRegressionModel, RandomForestClassificationModel, GBTClassificationModel\n",
    "\n",
    "spark = SparkSession.builder.appName('BigDataProject').getOrCreate()"
   ]
  },
  {
   "cell_type": "markdown",
   "id": "0e421499-cc61-4ad9-b13c-8da2dc00c010",
   "metadata": {},
   "source": [
    "# Load Data"
   ]
  },
  {
   "cell_type": "code",
   "execution_count": 73,
   "id": "6ba1de84-46dc-40d9-b81c-015a4168935e",
   "metadata": {},
   "outputs": [
    {
     "name": "stdout",
     "output_type": "stream",
     "text": [
      "+--------+--------------------+--------------------+-----+--------------------+-----+--------+--------------------+-----------+---------------+--------------------+--------------------+--------------+--------+-------------+--------------------+----+----------+---------+---------+-------+--------------------+\n",
      "|anime_id|                Name|        English name|Score|              Genres| Type|Episodes|               Aired|  Premiered|         Status|           Producers|           Licensors|       Studios|  Source|     Duration|              Rating|Rank|Popularity|Favorites|Scored By|Members|           Image URL|\n",
      "+--------+--------------------+--------------------+-----+--------------------+-----+--------+--------------------+-----------+---------------+--------------------+--------------------+--------------+--------+-------------+--------------------+----+----------+---------+---------+-------+--------------------+\n",
      "|       1|        Cowboy Bebop|        Cowboy Bebop| 8.75|Action, Award Win...|   TV|      26|Apr 3, 1998 to Ap...|spring 1998|Finished Airing|       Bandai Visual|Funimation, Banda...|       Sunrise|Original|24 min per ep|R - 17+ (violence...|  41|        43|    78525|   914193|1771505|https://cdn.myani...|\n",
      "|       5|Cowboy Bebop: Ten...|Cowboy Bebop: The...| 8.38|      Action, Sci-Fi|Movie|       1|         Sep 1, 2001|    UNKNOWN|Finished Airing|Sunrise, Bandai V...|Sony Pictures Ent...|         Bones|Original|  1 hr 55 min|R - 17+ (violence...| 189|       602|     1448|   206248| 360978|https://cdn.myani...|\n",
      "|       6|              Trigun|              Trigun| 8.22|Action, Adventure...|   TV|      26|Apr 1, 1998 to Se...|spring 1998|Finished Airing|Victor Entertainment|Funimation, Geneo...|      Madhouse|   Manga|24 min per ep|PG-13 - Teens 13 ...| 328|       246|    15035|   356739| 727252|https://cdn.myani...|\n",
      "|       7|  Witch Hunter Robin|  Witch Hunter Robin| 7.25|Action, Drama, My...|   TV|      26|Jul 3, 2002 to De...|summer 2002|Finished Airing|Bandai Visual, De...|Funimation, Banda...|       Sunrise|Original|25 min per ep|PG-13 - Teens 13 ...|2764|      1795|      613|    42829| 111931|https://cdn.myani...|\n",
      "|       8|      Bouken Ou Beet|Beet the Vandel B...| 6.94|Adventure, Fantas...|   TV|      52|Sep 30, 2004 to S...|  fall 2004|Finished Airing|    TV Tokyo, Dentsu|Illumitoon Entert...|Toei Animation|   Manga|23 min per ep|       PG - Children|4240|      5126|       14|     6413|  15001|https://cdn.myani...|\n",
      "+--------+--------------------+--------------------+-----+--------------------+-----+--------+--------------------+-----------+---------------+--------------------+--------------------+--------------+--------+-------------+--------------------+----+----------+---------+---------+-------+--------------------+\n",
      "only showing top 5 rows\n",
      "\n"
     ]
    }
   ],
   "source": [
    "base_df = spark.read.csv(\"anime_dataset.csv\", header=True, inferSchema=True)\n",
    "base_df.show(5)"
   ]
  },
  {
   "cell_type": "markdown",
   "id": "b61e69ba-69fa-463e-a12e-b0caff2f7901",
   "metadata": {},
   "source": [
    "# Preprocessing the Dataset"
   ]
  },
  {
   "cell_type": "markdown",
   "id": "68cc2b4c-65fd-44c4-9dce-68054b33e13a",
   "metadata": {},
   "source": [
    "### Dropping irrelevant columns"
   ]
  },
  {
   "cell_type": "code",
   "execution_count": 74,
   "id": "f6e8c1ad-8d31-40a6-a60d-0834f2c73855",
   "metadata": {},
   "outputs": [
    {
     "name": "stdout",
     "output_type": "stream",
     "text": [
      "root\n",
      " |-- Score: string (nullable = true)\n",
      " |-- Genres: string (nullable = true)\n",
      " |-- Type: string (nullable = true)\n",
      " |-- Episodes: string (nullable = true)\n",
      " |-- Aired: string (nullable = true)\n",
      " |-- Premiered: string (nullable = true)\n",
      " |-- Status: string (nullable = true)\n",
      " |-- Producers: string (nullable = true)\n",
      " |-- Licensors: string (nullable = true)\n",
      " |-- Studios: string (nullable = true)\n",
      " |-- Source: string (nullable = true)\n",
      " |-- Duration: string (nullable = true)\n",
      " |-- Rating: string (nullable = true)\n",
      " |-- Rank: string (nullable = true)\n",
      " |-- Popularity: string (nullable = true)\n",
      " |-- Favorites: integer (nullable = true)\n",
      " |-- Scored By: string (nullable = true)\n",
      " |-- Members: string (nullable = true)\n",
      "\n"
     ]
    }
   ],
   "source": [
    "df = base_df.drop(\"anime_id\", \"Name\", \"English name\", \"Other name\", \"Image URL\")\n",
    "df.printSchema()"
   ]
  },
  {
   "cell_type": "code",
   "execution_count": 75,
   "id": "d5aa3f2c-a1b9-475a-97b0-f401aef053ad",
   "metadata": {},
   "outputs": [
    {
     "data": {
      "text/plain": [
       "9962000"
      ]
     },
     "execution_count": 75,
     "metadata": {},
     "output_type": "execute_result"
    }
   ],
   "source": [
    "df.count()"
   ]
  },
  {
   "cell_type": "markdown",
   "id": "f5974eeb-fcec-4435-a63d-74bf0efd8e32",
   "metadata": {},
   "source": [
    "### Dropping any null values"
   ]
  },
  {
   "cell_type": "code",
   "execution_count": 76,
   "id": "0c651c00-9076-4d64-86ab-646ec430f2b8",
   "metadata": {},
   "outputs": [
    {
     "data": {
      "text/plain": [
       "9962000"
      ]
     },
     "execution_count": 76,
     "metadata": {},
     "output_type": "execute_result"
    }
   ],
   "source": [
    "df2 = df.na.drop()\n",
    "df2.count()"
   ]
  },
  {
   "cell_type": "markdown",
   "id": "afde9f75-7c08-4f80-8303-12359e93075f",
   "metadata": {},
   "source": [
    "### Replacing \"unknown\" values with the average value for that column"
   ]
  },
  {
   "cell_type": "code",
   "execution_count": 79,
   "id": "ec8fc205-0a79-40b0-84c3-40eecdd3ba34",
   "metadata": {},
   "outputs": [
    {
     "name": "stdout",
     "output_type": "stream",
     "text": [
      "+-----+--------------------+-----+-----------------+--------------------+-----------+----------------+--------------------+--------------------+----------------+-----------+-------------+--------------------+------+----------+---------+---------+---------+\n",
      "|Score|              Genres| Type|         Episodes|               Aired|  Premiered|          Status|           Producers|           Licensors|         Studios|     Source|     Duration|              Rating|  Rank|Popularity|Favorites|Scored By|  Members|\n",
      "+-----+--------------------+-----+-----------------+--------------------+-----------+----------------+--------------------+--------------------+----------------+-----------+-------------+--------------------+------+----------+---------+---------+---------+\n",
      "| 8.75|Action, Award Win...|   TV|             26.0|Apr 3, 1998 to Ap...|spring 1998| Finished Airing|       Bandai Visual|Funimation, Banda...|         Sunrise|   Original|24 min per ep|R - 17+ (violence...|  41.0|      43.0|    78525| 914193.0|1771505.0|\n",
      "| 8.38|      Action, Sci-Fi|Movie|              1.0|         Sep 1, 2001|    UNKNOWN| Finished Airing|Sunrise, Bandai V...|Sony Pictures Ent...|           Bones|   Original|  1 hr 55 min|R - 17+ (violence...| 189.0|     602.0|     1448| 206248.0| 360978.0|\n",
      "| 8.22|Action, Adventure...|   TV|             26.0|Apr 1, 1998 to Se...|spring 1998| Finished Airing|Victor Entertainment|Funimation, Geneo...|        Madhouse|      Manga|24 min per ep|PG-13 - Teens 13 ...| 328.0|     246.0|    15035| 356739.0| 727252.0|\n",
      "| 7.25|Action, Drama, My...|   TV|             26.0|Jul 3, 2002 to De...|summer 2002| Finished Airing|Bandai Visual, De...|Funimation, Banda...|         Sunrise|   Original|25 min per ep|PG-13 - Teens 13 ...|2764.0|    1795.0|      613|  42829.0| 111931.0|\n",
      "| 6.94|Adventure, Fantas...|   TV|             52.0|Sep 30, 2004 to S...|  fall 2004| Finished Airing|    TV Tokyo, Dentsu|Illumitoon Entert...|  Toei Animation|      Manga|23 min per ep|       PG - Children|4240.0|    5126.0|       14|   6413.0|  15001.0|\n",
      "| 7.92|              Sports|   TV|            145.0|Apr 6, 2005 to Ma...|spring 2005| Finished Airing|TV Tokyo, Nihon A...|VIZ Media, Sentai...|          Gallop|      Manga|23 min per ep|PG-13 - Teens 13 ...| 688.0|    1252.0|     1997|  86524.0| 177688.0|\n",
      "|  8.0|Comedy, Drama, Ro...|   TV|             24.0|Apr 15, 2005 to S...|spring 2005| Finished Airing|Dentsu, Genco, Fu...|VIZ Media, Discot...|       J.C.Staff|      Manga|23 min per ep|PG-13 - Teens 13 ...| 589.0|     862.0|     4136|  81747.0| 260166.0|\n",
      "| 7.55|Comedy, Slice of ...|   TV|             52.0|Sep 11, 2002 to S...|  fall 2002| Finished Airing|             UNKNOWN|             UNKNOWN|Nippon Animation|      Manga|23 min per ep|PG-13 - Teens 13 ...|1551.0|    4212.0|      237|  12960.0|  24172.0|\n",
      "| 8.16|       Action, Drama|   TV|             24.0|Apr 17, 2004 to F...|spring 2004| Finished Airing|OB Planning, Stud...|          Funimation|        A.C.G.T.|      Manga|27 min per ep|PG-13 - Teens 13 ...| 393.0|    1273.0|     1237|  97878.0| 173710.0|\n",
      "| 8.87|Drama, Mystery, S...|   TV|             74.0|Apr 7, 2004 to Se...|spring 2004| Finished Airing|VAP, Shogakukan-S...|           VIZ Media|        Madhouse|      Manga|24 min per ep|    R+ - Mild Nudity|  26.0|     142.0|    47235| 368569.0|1013100.0|\n",
      "| 7.99|Action, Adventure...|   TV|            220.0|Oct 3, 2002 to Fe...|  fall 2002| Finished Airing|TV Tokyo, Aniplex...|           VIZ Media|         Pierrot|      Manga|23 min per ep|PG-13 - Teens 13 ...| 599.0|       8.0|    76343|1883772.0|2717330.0|\n",
      "| 8.69|Action, Adventure...|   TV|14.91395636064224|   Oct 20, 1999 to ?|  fall 1999|Currently Airing|Fuji TV, TAP, Shu...|Funimation, 4Kids...|  Toei Animation|      Manga|       24 min|PG-13 - Teens 13 ...|  55.0|      20.0|   198986|1226493.0|2168904.0|\n",
      "| 7.86|              Sports|   TV|            178.0|Oct 10, 2001 to M...|  fall 2001| Finished Airing|Production I.G, N...|Funimation, VIZ M...|      Trans Arts|      Manga|22 min per ep|PG-13 - Teens 13 ...| 805.0|    1246.0|     3004|  81992.0| 178273.0|\n",
      "| 6.39|      Action, Sports|   TV|             12.0|Oct 6, 2004 to De...|  fall 2004| Finished Airing|             UNKNOWN|             UNKNOWN|  Toei Animation|      Manga|25 min per ep|       PG - Children|6943.0|    8288.0|        6|   1378.0|   4581.0|\n",
      "| 7.89|     Comedy, Romance|   TV|             26.0|Oct 5, 2004 to Ma...|  fall 2004| Finished Airing|TV Tokyo, Sotsu, ...|          Funimation|    Studio Comet|      Manga|23 min per ep|PG-13 - Teens 13 ...| 756.0|     687.0|     5139| 146597.0| 320203.0|\n",
      "| 7.38|Action, Adventure...|   TV|             24.0|Oct 6, 2004 to Ma...|  fall 2004| Finished Airing|GDH, Pony Canyon,...|          Funimation|           Gonzo|      Manga|24 min per ep|R - 17+ (violence...|2167.0|    1546.0|      822|  53709.0| 134894.0|\n",
      "| 7.76|Action, Drama, Sc...|   TV|             22.0|Apr 17, 2003 to S...|spring 2003| Finished Airing|Group TAC, Rondo ...|Funimation, Geneo...|        Madhouse|   Original|23 min per ep|    R+ - Mild Nudity| 990.0|     935.0|     4786|  54857.0| 239423.0|\n",
      "| 7.29|Action, Supernatural|   TV|             24.0|Apr 29, 2005 to O...|spring 2005| Finished Airing|             UNKNOWN|          Funimation|           Gonzo|Light novel|24 min per ep|R - 17+ (violence...|2591.0|    1233.0|     1298|  79130.0| 179583.0|\n",
      "| 7.91|     Comedy, Gourmet|   TV|             69.0|Oct 12, 2004 to M...|  fall 2004| Finished Airing|TV Tokyo, Aniplex...|Nozomi Entertainment|         Sunrise|      Manga|24 min per ep|PG-13 - Teens 13 ...| 704.0|    1992.0|      897|  40492.0|  95380.0|\n",
      "| 7.48|Action, Drama, Sc...|   TV|             26.0|Oct 8, 2004 to Ap...|  fall 2004| Finished Airing|      Marvelous, TBS|Geneon Entertainm...|     Studio Deen|      Manga|24 min per ep|PG-13 - Teens 13 ...|1778.0|    4430.0|      180|   7273.0|  21391.0|\n",
      "+-----+--------------------+-----+-----------------+--------------------+-----------+----------------+--------------------+--------------------+----------------+-----------+-------------+--------------------+------+----------+---------+---------+---------+\n",
      "only showing top 20 rows\n",
      "\n"
     ]
    }
   ],
   "source": [
    "from pyspark.sql.functions import col, when, avg\n",
    "\n",
    "\n",
    "# Convert the \"Score\" column to double, except for \"UNKNOWN\"\n",
    "df_filled = df.withColumn(\"Score\", when(col(\"Score\") == \"UNKNOWN\", None).otherwise(col(\"Score\").cast(\"double\")))\n",
    "\n",
    "# Calculate the average of the \"Score\" column, excluding null values\n",
    "average_score = df_filled.select(avg(col(\"Score\"))).collect()[0][0]\n",
    "\n",
    "# Replace \"UNKNOWN\" values with the average score\n",
    "df_filled = df_filled.withColumn(\"Score\", when(col(\"Score\").isNull(), average_score).otherwise(col(\"Score\")))\n",
    "\n",
    "\n",
    "\n",
    "\n",
    "\n",
    "df_filled = df_filled.withColumn(\"Rank\", when(col(\"Rank\") == \"UNKNOWN\", None).otherwise(col(\"Rank\").cast(\"double\")))\n",
    "average_score = df_filled.select(avg(col(\"Rank\"))).collect()[0][0]\n",
    "df_filled = df_filled.withColumn(\"Rank\", when(col(\"Rank\").isNull(), average_score).otherwise(col(\"Rank\")))\n",
    "\n",
    "\n",
    "\n",
    "df_filled = df_filled.withColumn(\"Popularity\", when(col(\"Popularity\") == \"UNKNOWN\", None).otherwise(col(\"Popularity\").cast(\"double\")))\n",
    "average_score = df_filled.select(avg(col(\"Popularity\"))).collect()[0][0]\n",
    "df_filled = df_filled.withColumn(\"Popularity\", when(col(\"Popularity\").isNull(), average_score).otherwise(col(\"Popularity\")))\n",
    "\n",
    "\n",
    "df_filled = df_filled.withColumn(\"Scored By\", when(col(\"Scored By\") == \"UNKNOWN\", None).otherwise(col(\"Scored By\").cast(\"double\")))\n",
    "average_score = df_filled.select(avg(col(\"Scored By\"))).collect()[0][0]\n",
    "df_filled = df_filled.withColumn(\"Scored By\", when(col(\"Scored By\").isNull(), average_score).otherwise(col(\"Scored By\")))\n",
    "\n",
    "\n",
    "\n",
    "df_filled = df_filled.withColumn(\"Members\", when(col(\"Members\") == \"UNKNOWN\", None).otherwise(col(\"Members\").cast(\"double\")))\n",
    "average_score = df_filled.select(avg(col(\"Members\"))).collect()[0][0]\n",
    "df_filled = df_filled.withColumn(\"Members\", when(col(\"Members\").isNull(), average_score).otherwise(col(\"Members\")))\n",
    "\n",
    "\n",
    "\n",
    "df_filled = df_filled.withColumn(\"Episodes\", when(col(\"Episodes\") == \"UNKNOWN\", None).otherwise(col(\"Episodes\").cast(\"double\")))\n",
    "average_score = df_filled.select(avg(col(\"Episodes\"))).collect()[0][0]\n",
    "df_filled = df_filled.withColumn(\"Episodes\", when(col(\"Episodes\").isNull(), average_score).otherwise(col(\"Episodes\")))\n",
    "\n",
    "\n",
    "\n",
    "\n",
    "df_filled.show()\n"
   ]
  },
  {
   "cell_type": "markdown",
   "id": "8bc5b0f5-f157-4950-99ca-e09158fc2e49",
   "metadata": {},
   "source": [
    "### Transforming all the data into numeric values"
   ]
  },
  {
   "cell_type": "code",
   "execution_count": 80,
   "id": "0bf503c7-4e66-4c9d-8893-3a37e465d6cc",
   "metadata": {},
   "outputs": [
    {
     "name": "stdout",
     "output_type": "stream",
     "text": [
      "root\n",
      " |-- Score: double (nullable = true)\n",
      " |-- Genres: string (nullable = true)\n",
      " |-- Type: string (nullable = true)\n",
      " |-- Episodes: integer (nullable = true)\n",
      " |-- Aired: string (nullable = true)\n",
      " |-- Premiered: string (nullable = true)\n",
      " |-- Status: string (nullable = true)\n",
      " |-- Producers: string (nullable = true)\n",
      " |-- Licensors: string (nullable = true)\n",
      " |-- Studios: string (nullable = true)\n",
      " |-- Source: string (nullable = true)\n",
      " |-- Duration: string (nullable = true)\n",
      " |-- Rating: string (nullable = true)\n",
      " |-- Rank: integer (nullable = true)\n",
      " |-- Popularity: integer (nullable = true)\n",
      " |-- Favorites: integer (nullable = true)\n",
      " |-- Scored By: integer (nullable = true)\n",
      " |-- Members: integer (nullable = true)\n",
      "\n"
     ]
    }
   ],
   "source": [
    "from pyspark.sql.types import IntegerType, DoubleType\n",
    "df_filled = df_filled.withColumn(\"Rank\", col(\"Rank\").cast(IntegerType()))\n",
    "df_filled = df_filled.withColumn(\"Popularity\", col(\"Popularity\").cast(IntegerType()))\n",
    "df_filled = df_filled.withColumn(\"Scored By\", col(\"Scored By\").cast(IntegerType()))\n",
    "df_filled = df_filled.withColumn(\"Members\", col(\"Members\").cast(IntegerType()))\n",
    "df_filled = df_filled.withColumn(\"Episodes\", col(\"Episodes\").cast(IntegerType()))\n",
    "df_filled = df_filled.withColumn(\"Score\", col(\"Score\").cast(DoubleType()))\n",
    "df_filled.printSchema()"
   ]
  },
  {
   "cell_type": "code",
   "execution_count": 81,
   "id": "04d00027-2659-42f4-958a-5a8c9cd06333",
   "metadata": {},
   "outputs": [],
   "source": [
    "from pyspark.ml.feature import StringIndexer\n",
    "df = df_filled\n",
    "si = StringIndexer(inputCols=[\"Genres\", \"Type\", \"Aired\", \"Premiered\", \"Status\", \"Producers\", \"Licensors\", \"Studios\", \"Source\", \"Duration\", \"Rating\"], outputCols=[\"Genres2\", \"Type2\", \"Aired2\", \"Premiered2\", \"Status2\", \"Producers2\", \"Licensors2\", \"Studios2\", \"Source2\", \"Duration2\", \"Rating2\"])\n",
    "si_fit = si.fit(df)\n",
    "\n",
    "df_indexed = si_fit.transform(df)"
   ]
  },
  {
   "cell_type": "code",
   "execution_count": 82,
   "id": "29c4c18f-3be8-449e-a1d2-bb419ad32752",
   "metadata": {},
   "outputs": [
    {
     "name": "stdout",
     "output_type": "stream",
     "text": [
      "root\n",
      " |-- Score: double (nullable = true)\n",
      " |-- Episodes: integer (nullable = true)\n",
      " |-- Rank: integer (nullable = true)\n",
      " |-- Popularity: integer (nullable = true)\n",
      " |-- Favorites: integer (nullable = true)\n",
      " |-- Scored By: integer (nullable = true)\n",
      " |-- Members: integer (nullable = true)\n",
      " |-- Genres2: double (nullable = false)\n",
      " |-- Type2: double (nullable = false)\n",
      " |-- Aired2: double (nullable = false)\n",
      " |-- Premiered2: double (nullable = false)\n",
      " |-- Status2: double (nullable = false)\n",
      " |-- Producers2: double (nullable = false)\n",
      " |-- Licensors2: double (nullable = false)\n",
      " |-- Studios2: double (nullable = false)\n",
      " |-- Source2: double (nullable = false)\n",
      " |-- Duration2: double (nullable = false)\n",
      " |-- Rating2: double (nullable = false)\n",
      "\n"
     ]
    }
   ],
   "source": [
    "df = df_indexed.drop(\"Genres\", \"Type\", \"Aired\", \"Premiered\", \"Status\", \"Producers\", \"Licensors\", \"Studios\", \"Source\", \"Duration\", \"Rating\")\n",
    "df.printSchema()\n"
   ]
  },
  {
   "cell_type": "markdown",
   "id": "32c50a2f-16a7-4fa4-bbd3-ec5bbe187e23",
   "metadata": {},
   "source": [
    "# Correlation Matrix"
   ]
  },
  {
   "cell_type": "code",
   "execution_count": 83,
   "id": "5fd80cd1-eb7b-40ad-807f-ff1b6905d593",
   "metadata": {},
   "outputs": [
    {
     "data": {
      "text/html": [
       "<style type=\"text/css\">\n",
       "#T_e1fa9_row0_col0, #T_e1fa9_row1_col1, #T_e1fa9_row2_col2, #T_e1fa9_row3_col3, #T_e1fa9_row4_col4, #T_e1fa9_row5_col5, #T_e1fa9_row6_col6, #T_e1fa9_row7_col7, #T_e1fa9_row8_col8, #T_e1fa9_row9_col9, #T_e1fa9_row10_col10, #T_e1fa9_row11_col11, #T_e1fa9_row12_col12, #T_e1fa9_row13_col13, #T_e1fa9_row14_col14, #T_e1fa9_row15_col15, #T_e1fa9_row16_col16, #T_e1fa9_row17_col17 {\n",
       "  background-color: #b40426;\n",
       "  color: #f1f1f1;\n",
       "}\n",
       "#T_e1fa9_row0_col1, #T_e1fa9_row2_col1, #T_e1fa9_row9_col13 {\n",
       "  background-color: #89acfd;\n",
       "  color: #000000;\n",
       "}\n",
       "#T_e1fa9_row0_col2, #T_e1fa9_row2_col0, #T_e1fa9_row2_col4, #T_e1fa9_row3_col5, #T_e1fa9_row3_col6, #T_e1fa9_row3_col7, #T_e1fa9_row3_col9, #T_e1fa9_row3_col11, #T_e1fa9_row3_col12, #T_e1fa9_row3_col13, #T_e1fa9_row3_col14, #T_e1fa9_row3_col15, #T_e1fa9_row8_col1, #T_e1fa9_row8_col10, #T_e1fa9_row8_col17, #T_e1fa9_row9_col11, #T_e1fa9_row10_col8, #T_e1fa9_row10_col16, #T_e1fa9_row12_col3, #T_e1fa9_row16_col11 {\n",
       "  background-color: #3b4cc0;\n",
       "  color: #f1f1f1;\n",
       "}\n",
       "#T_e1fa9_row0_col3, #T_e1fa9_row2_col13 {\n",
       "  background-color: #3d50c3;\n",
       "  color: #f1f1f1;\n",
       "}\n",
       "#T_e1fa9_row0_col4, #T_e1fa9_row5_col10, #T_e1fa9_row10_col6, #T_e1fa9_row11_col0, #T_e1fa9_row12_col7, #T_e1fa9_row15_col12 {\n",
       "  background-color: #aec9fc;\n",
       "  color: #000000;\n",
       "}\n",
       "#T_e1fa9_row0_col5, #T_e1fa9_row12_col6 {\n",
       "  background-color: #d3dbe7;\n",
       "  color: #000000;\n",
       "}\n",
       "#T_e1fa9_row0_col6 {\n",
       "  background-color: #e9d5cb;\n",
       "  color: #000000;\n",
       "}\n",
       "#T_e1fa9_row0_col7, #T_e1fa9_row10_col9 {\n",
       "  background-color: #a6c4fe;\n",
       "  color: #000000;\n",
       "}\n",
       "#T_e1fa9_row0_col8, #T_e1fa9_row2_col17, #T_e1fa9_row8_col15, #T_e1fa9_row9_col16, #T_e1fa9_row16_col17 {\n",
       "  background-color: #6b8df0;\n",
       "  color: #f1f1f1;\n",
       "}\n",
       "#T_e1fa9_row0_col9, #T_e1fa9_row5_col15, #T_e1fa9_row7_col15, #T_e1fa9_row11_col13, #T_e1fa9_row12_col9 {\n",
       "  background-color: #7093f3;\n",
       "  color: #f1f1f1;\n",
       "}\n",
       "#T_e1fa9_row0_col10, #T_e1fa9_row5_col12 {\n",
       "  background-color: #c7d7f0;\n",
       "  color: #000000;\n",
       "}\n",
       "#T_e1fa9_row0_col11, #T_e1fa9_row2_col14, #T_e1fa9_row8_col4 {\n",
       "  background-color: #4c66d6;\n",
       "  color: #f1f1f1;\n",
       "}\n",
       "#T_e1fa9_row0_col12, #T_e1fa9_row9_col10 {\n",
       "  background-color: #cedaeb;\n",
       "  color: #000000;\n",
       "}\n",
       "#T_e1fa9_row0_col13 {\n",
       "  background-color: #a1c0ff;\n",
       "  color: #000000;\n",
       "}\n",
       "#T_e1fa9_row0_col14, #T_e1fa9_row1_col15, #T_e1fa9_row5_col9, #T_e1fa9_row8_col6, #T_e1fa9_row8_col14, #T_e1fa9_row13_col3 {\n",
       "  background-color: #6282ea;\n",
       "  color: #f1f1f1;\n",
       "}\n",
       "#T_e1fa9_row0_col15, #T_e1fa9_row5_col2, #T_e1fa9_row10_col4 {\n",
       "  background-color: #7b9ff9;\n",
       "  color: #f1f1f1;\n",
       "}\n",
       "#T_e1fa9_row0_col16, #T_e1fa9_row4_col9, #T_e1fa9_row9_col5, #T_e1fa9_row17_col4 {\n",
       "  background-color: #6c8ff1;\n",
       "  color: #f1f1f1;\n",
       "}\n",
       "#T_e1fa9_row0_col17 {\n",
       "  background-color: #445acc;\n",
       "  color: #f1f1f1;\n",
       "}\n",
       "#T_e1fa9_row1_col0, #T_e1fa9_row1_col2, #T_e1fa9_row7_col6, #T_e1fa9_row14_col12 {\n",
       "  background-color: #b6cefa;\n",
       "  color: #000000;\n",
       "}\n",
       "#T_e1fa9_row1_col3, #T_e1fa9_row9_col0 {\n",
       "  background-color: #afcafc;\n",
       "  color: #000000;\n",
       "}\n",
       "#T_e1fa9_row1_col4, #T_e1fa9_row11_col17 {\n",
       "  background-color: #7597f6;\n",
       "  color: #f1f1f1;\n",
       "}\n",
       "#T_e1fa9_row1_col5, #T_e1fa9_row13_col9, #T_e1fa9_row14_col15, #T_e1fa9_row17_col13 {\n",
       "  background-color: #7da0f9;\n",
       "  color: #f1f1f1;\n",
       "}\n",
       "#T_e1fa9_row1_col6, #T_e1fa9_row4_col7, #T_e1fa9_row6_col13 {\n",
       "  background-color: #9abbff;\n",
       "  color: #000000;\n",
       "}\n",
       "#T_e1fa9_row1_col7, #T_e1fa9_row6_col15, #T_e1fa9_row7_col14, #T_e1fa9_row7_col17, #T_e1fa9_row11_col1, #T_e1fa9_row13_col1, #T_e1fa9_row14_col13, #T_e1fa9_row17_col1 {\n",
       "  background-color: #7a9df8;\n",
       "  color: #f1f1f1;\n",
       "}\n",
       "#T_e1fa9_row1_col8, #T_e1fa9_row10_col3, #T_e1fa9_row12_col8, #T_e1fa9_row12_col16 {\n",
       "  background-color: #6384eb;\n",
       "  color: #f1f1f1;\n",
       "}\n",
       "#T_e1fa9_row1_col9, #T_e1fa9_row10_col15 {\n",
       "  background-color: #7396f5;\n",
       "  color: #f1f1f1;\n",
       "}\n",
       "#T_e1fa9_row1_col10 {\n",
       "  background-color: #d2dbe8;\n",
       "  color: #000000;\n",
       "}\n",
       "#T_e1fa9_row1_col11, #T_e1fa9_row2_col7 {\n",
       "  background-color: #485fd1;\n",
       "  color: #f1f1f1;\n",
       "}\n",
       "#T_e1fa9_row1_col12, #T_e1fa9_row7_col13, #T_e1fa9_row11_col8, #T_e1fa9_row11_col12 {\n",
       "  background-color: #9ebeff;\n",
       "  color: #000000;\n",
       "}\n",
       "#T_e1fa9_row1_col13, #T_e1fa9_row8_col0, #T_e1fa9_row9_col15, #T_e1fa9_row15_col14 {\n",
       "  background-color: #779af7;\n",
       "  color: #f1f1f1;\n",
       "}\n",
       "#T_e1fa9_row1_col14, #T_e1fa9_row5_col14, #T_e1fa9_row8_col12, #T_e1fa9_row16_col5 {\n",
       "  background-color: #5e7de7;\n",
       "  color: #f1f1f1;\n",
       "}\n",
       "#T_e1fa9_row1_col16, #T_e1fa9_row7_col3 {\n",
       "  background-color: #536edd;\n",
       "  color: #f1f1f1;\n",
       "}\n",
       "#T_e1fa9_row1_col17, #T_e1fa9_row6_col2, #T_e1fa9_row14_col17 {\n",
       "  background-color: #5977e3;\n",
       "  color: #f1f1f1;\n",
       "}\n",
       "#T_e1fa9_row2_col3 {\n",
       "  background-color: #df634e;\n",
       "  color: #f1f1f1;\n",
       "}\n",
       "#T_e1fa9_row2_col5 {\n",
       "  background-color: #3e51c5;\n",
       "  color: #f1f1f1;\n",
       "}\n",
       "#T_e1fa9_row2_col6, #T_e1fa9_row6_col11 {\n",
       "  background-color: #3f53c6;\n",
       "  color: #f1f1f1;\n",
       "}\n",
       "#T_e1fa9_row2_col8, #T_e1fa9_row5_col7, #T_e1fa9_row12_col13, #T_e1fa9_row15_col8 {\n",
       "  background-color: #9dbdff;\n",
       "  color: #000000;\n",
       "}\n",
       "#T_e1fa9_row2_col9, #T_e1fa9_row4_col11, #T_e1fa9_row7_col11, #T_e1fa9_row8_col11 {\n",
       "  background-color: #465ecf;\n",
       "  color: #f1f1f1;\n",
       "}\n",
       "#T_e1fa9_row2_col10, #T_e1fa9_row3_col10, #T_e1fa9_row16_col10, #T_e1fa9_row16_col15 {\n",
       "  background-color: #688aef;\n",
       "  color: #f1f1f1;\n",
       "}\n",
       "#T_e1fa9_row2_col11, #T_e1fa9_row2_col12, #T_e1fa9_row10_col11 {\n",
       "  background-color: #4961d2;\n",
       "  color: #f1f1f1;\n",
       "}\n",
       "#T_e1fa9_row2_col15, #T_e1fa9_row12_col11 {\n",
       "  background-color: #4b64d5;\n",
       "  color: #f1f1f1;\n",
       "}\n",
       "#T_e1fa9_row2_col16, #T_e1fa9_row10_col2, #T_e1fa9_row14_col16, #T_e1fa9_row15_col5 {\n",
       "  background-color: #7699f6;\n",
       "  color: #f1f1f1;\n",
       "}\n",
       "#T_e1fa9_row3_col0, #T_e1fa9_row10_col17, #T_e1fa9_row15_col17 {\n",
       "  background-color: #506bda;\n",
       "  color: #f1f1f1;\n",
       "}\n",
       "#T_e1fa9_row3_col1, #T_e1fa9_row14_col6, #T_e1fa9_row16_col3 {\n",
       "  background-color: #92b4fe;\n",
       "  color: #000000;\n",
       "}\n",
       "#T_e1fa9_row3_col2 {\n",
       "  background-color: #dd5f4b;\n",
       "  color: #f1f1f1;\n",
       "}\n",
       "#T_e1fa9_row3_col4 {\n",
       "  background-color: #3c4ec2;\n",
       "  color: #f1f1f1;\n",
       "}\n",
       "#T_e1fa9_row3_col8 {\n",
       "  background-color: #b1cbfc;\n",
       "  color: #000000;\n",
       "}\n",
       "#T_e1fa9_row3_col16, #T_e1fa9_row6_col9, #T_e1fa9_row11_col4, #T_e1fa9_row13_col15, #T_e1fa9_row15_col3, #T_e1fa9_row15_col4, #T_e1fa9_row16_col14, #T_e1fa9_row17_col9, #T_e1fa9_row17_col14 {\n",
       "  background-color: #6a8bef;\n",
       "  color: #f1f1f1;\n",
       "}\n",
       "#T_e1fa9_row3_col17, #T_e1fa9_row12_col17 {\n",
       "  background-color: #4f69d9;\n",
       "  color: #f1f1f1;\n",
       "}\n",
       "#T_e1fa9_row4_col0 {\n",
       "  background-color: #d9dce1;\n",
       "  color: #000000;\n",
       "}\n",
       "#T_e1fa9_row4_col1, #T_e1fa9_row5_col1, #T_e1fa9_row9_col1, #T_e1fa9_row11_col7, #T_e1fa9_row17_col8 {\n",
       "  background-color: #84a7fc;\n",
       "  color: #f1f1f1;\n",
       "}\n",
       "#T_e1fa9_row4_col2, #T_e1fa9_row13_col16 {\n",
       "  background-color: #80a3fa;\n",
       "  color: #f1f1f1;\n",
       "}\n",
       "#T_e1fa9_row4_col3, #T_e1fa9_row9_col3, #T_e1fa9_row11_col5, #T_e1fa9_row14_col1, #T_e1fa9_row14_col3, #T_e1fa9_row15_col16 {\n",
       "  background-color: #6f92f3;\n",
       "  color: #f1f1f1;\n",
       "}\n",
       "#T_e1fa9_row4_col5 {\n",
       "  background-color: #ea7b60;\n",
       "  color: #f1f1f1;\n",
       "}\n",
       "#T_e1fa9_row4_col6 {\n",
       "  background-color: #e7745b;\n",
       "  color: #f1f1f1;\n",
       "}\n",
       "#T_e1fa9_row4_col8, #T_e1fa9_row8_col16, #T_e1fa9_row10_col5, #T_e1fa9_row12_col15 {\n",
       "  background-color: #85a8fc;\n",
       "  color: #f1f1f1;\n",
       "}\n",
       "#T_e1fa9_row4_col10, #T_e1fa9_row8_col3, #T_e1fa9_row16_col8 {\n",
       "  background-color: #adc9fd;\n",
       "  color: #000000;\n",
       "}\n",
       "#T_e1fa9_row4_col12 {\n",
       "  background-color: #bad0f8;\n",
       "  color: #000000;\n",
       "}\n",
       "#T_e1fa9_row4_col13, #T_e1fa9_row9_col6, #T_e1fa9_row16_col7 {\n",
       "  background-color: #96b7ff;\n",
       "  color: #000000;\n",
       "}\n",
       "#T_e1fa9_row4_col14, #T_e1fa9_row5_col3, #T_e1fa9_row17_col11 {\n",
       "  background-color: #6485ec;\n",
       "  color: #f1f1f1;\n",
       "}\n",
       "#T_e1fa9_row4_col15, #T_e1fa9_row6_col8, #T_e1fa9_row7_col1, #T_e1fa9_row8_col7, #T_e1fa9_row8_col9, #T_e1fa9_row9_col4, #T_e1fa9_row10_col14, #T_e1fa9_row13_col14, #T_e1fa9_row15_col1 {\n",
       "  background-color: #6e90f2;\n",
       "  color: #f1f1f1;\n",
       "}\n",
       "#T_e1fa9_row4_col16, #T_e1fa9_row11_col16, #T_e1fa9_row14_col5 {\n",
       "  background-color: #6788ee;\n",
       "  color: #f1f1f1;\n",
       "}\n",
       "#T_e1fa9_row4_col17, #T_e1fa9_row6_col17, #T_e1fa9_row15_col11 {\n",
       "  background-color: #5b7ae5;\n",
       "  color: #f1f1f1;\n",
       "}\n",
       "#T_e1fa9_row5_col0 {\n",
       "  background-color: #ecd3c5;\n",
       "  color: #000000;\n",
       "}\n",
       "#T_e1fa9_row5_col4 {\n",
       "  background-color: #eb7d62;\n",
       "  color: #f1f1f1;\n",
       "}\n",
       "#T_e1fa9_row5_col6, #T_e1fa9_row6_col5 {\n",
       "  background-color: #bb1b2c;\n",
       "  color: #f1f1f1;\n",
       "}\n",
       "#T_e1fa9_row5_col8, #T_e1fa9_row7_col2, #T_e1fa9_row15_col9, #T_e1fa9_row15_col13 {\n",
       "  background-color: #7295f4;\n",
       "  color: #f1f1f1;\n",
       "}\n",
       "#T_e1fa9_row5_col11 {\n",
       "  background-color: #4358cb;\n",
       "  color: #f1f1f1;\n",
       "}\n",
       "#T_e1fa9_row5_col13, #T_e1fa9_row12_col4 {\n",
       "  background-color: #90b2fe;\n",
       "  color: #000000;\n",
       "}\n",
       "#T_e1fa9_row5_col16, #T_e1fa9_row5_col17, #T_e1fa9_row6_col16, #T_e1fa9_row16_col9 {\n",
       "  background-color: #5f7fe8;\n",
       "  color: #f1f1f1;\n",
       "}\n",
       "#T_e1fa9_row6_col0 {\n",
       "  background-color: #f0cdbb;\n",
       "  color: #000000;\n",
       "}\n",
       "#T_e1fa9_row6_col1, #T_e1fa9_row9_col14, #T_e1fa9_row12_col1, #T_e1fa9_row14_col9 {\n",
       "  background-color: #7ea1fa;\n",
       "  color: #f1f1f1;\n",
       "}\n",
       "#T_e1fa9_row6_col3 {\n",
       "  background-color: #4055c8;\n",
       "  color: #f1f1f1;\n",
       "}\n",
       "#T_e1fa9_row6_col4 {\n",
       "  background-color: #ec8165;\n",
       "  color: #f1f1f1;\n",
       "}\n",
       "#T_e1fa9_row6_col7, #T_e1fa9_row12_col5 {\n",
       "  background-color: #a9c6fd;\n",
       "  color: #000000;\n",
       "}\n",
       "#T_e1fa9_row6_col10 {\n",
       "  background-color: #b7cff9;\n",
       "  color: #000000;\n",
       "}\n",
       "#T_e1fa9_row6_col12 {\n",
       "  background-color: #d6dce4;\n",
       "  color: #000000;\n",
       "}\n",
       "#T_e1fa9_row6_col14, #T_e1fa9_row14_col4, #T_e1fa9_row17_col15 {\n",
       "  background-color: #6687ed;\n",
       "  color: #f1f1f1;\n",
       "}\n",
       "#T_e1fa9_row7_col0 {\n",
       "  background-color: #c4d5f3;\n",
       "  color: #000000;\n",
       "}\n",
       "#T_e1fa9_row7_col4, #T_e1fa9_row11_col15, #T_e1fa9_row16_col6, #T_e1fa9_row16_col13 {\n",
       "  background-color: #81a4fb;\n",
       "  color: #f1f1f1;\n",
       "}\n",
       "#T_e1fa9_row7_col5, #T_e1fa9_row13_col4, #T_e1fa9_row15_col2 {\n",
       "  background-color: #8caffe;\n",
       "  color: #000000;\n",
       "}\n",
       "#T_e1fa9_row7_col8, #T_e1fa9_row12_col14, #T_e1fa9_row16_col12 {\n",
       "  background-color: #8badfd;\n",
       "  color: #000000;\n",
       "}\n",
       "#T_e1fa9_row7_col9, #T_e1fa9_row11_col14, #T_e1fa9_row13_col2, #T_e1fa9_row17_col5 {\n",
       "  background-color: #799cf8;\n",
       "  color: #f1f1f1;\n",
       "}\n",
       "#T_e1fa9_row7_col10 {\n",
       "  background-color: #b2ccfb;\n",
       "  color: #000000;\n",
       "}\n",
       "#T_e1fa9_row7_col12 {\n",
       "  background-color: #bfd3f6;\n",
       "  color: #000000;\n",
       "}\n",
       "#T_e1fa9_row7_col16, #T_e1fa9_row13_col8, #T_e1fa9_row17_col16 {\n",
       "  background-color: #86a9fc;\n",
       "  color: #f1f1f1;\n",
       "}\n",
       "#T_e1fa9_row8_col2 {\n",
       "  background-color: #a7c5fe;\n",
       "  color: #000000;\n",
       "}\n",
       "#T_e1fa9_row8_col5, #T_e1fa9_row13_col11 {\n",
       "  background-color: #4257c9;\n",
       "  color: #f1f1f1;\n",
       "}\n",
       "#T_e1fa9_row8_col13, #T_e1fa9_row9_col17 {\n",
       "  background-color: #5a78e4;\n",
       "  color: #f1f1f1;\n",
       "}\n",
       "#T_e1fa9_row9_col2, #T_e1fa9_row11_col6, #T_e1fa9_row13_col5 {\n",
       "  background-color: #8db0fe;\n",
       "  color: #000000;\n",
       "}\n",
       "#T_e1fa9_row9_col7, #T_e1fa9_row14_col7 {\n",
       "  background-color: #94b6ff;\n",
       "  color: #000000;\n",
       "}\n",
       "#T_e1fa9_row9_col8, #T_e1fa9_row14_col0, #T_e1fa9_row14_col10, #T_e1fa9_row15_col10, #T_e1fa9_row16_col0, #T_e1fa9_row17_col7 {\n",
       "  background-color: #a3c2fe;\n",
       "  color: #000000;\n",
       "}\n",
       "#T_e1fa9_row9_col12 {\n",
       "  background-color: #a2c1ff;\n",
       "  color: #000000;\n",
       "}\n",
       "#T_e1fa9_row10_col0 {\n",
       "  background-color: #cfdaea;\n",
       "  color: #000000;\n",
       "}\n",
       "#T_e1fa9_row10_col1, #T_e1fa9_row17_col2 {\n",
       "  background-color: #b9d0f9;\n",
       "  color: #000000;\n",
       "}\n",
       "#T_e1fa9_row10_col7 {\n",
       "  background-color: #9bbcff;\n",
       "  color: #000000;\n",
       "}\n",
       "#T_e1fa9_row10_col12 {\n",
       "  background-color: #c5d6f2;\n",
       "  color: #000000;\n",
       "}\n",
       "#T_e1fa9_row10_col13, #T_e1fa9_row17_col10 {\n",
       "  background-color: #97b8ff;\n",
       "  color: #000000;\n",
       "}\n",
       "#T_e1fa9_row11_col2, #T_e1fa9_row13_col7, #T_e1fa9_row16_col2 {\n",
       "  background-color: #abc8fd;\n",
       "  color: #000000;\n",
       "}\n",
       "#T_e1fa9_row11_col3 {\n",
       "  background-color: #8fb1fe;\n",
       "  color: #000000;\n",
       "}\n",
       "#T_e1fa9_row11_col9, #T_e1fa9_row12_col2, #T_e1fa9_row16_col4 {\n",
       "  background-color: #5d7ce6;\n",
       "  color: #f1f1f1;\n",
       "}\n",
       "#T_e1fa9_row11_col10, #T_e1fa9_row15_col6 {\n",
       "  background-color: #9fbfff;\n",
       "  color: #000000;\n",
       "}\n",
       "#T_e1fa9_row12_col0 {\n",
       "  background-color: #d7dce3;\n",
       "  color: #000000;\n",
       "}\n",
       "#T_e1fa9_row12_col10 {\n",
       "  background-color: #c9d7f0;\n",
       "  color: #000000;\n",
       "}\n",
       "#T_e1fa9_row13_col0 {\n",
       "  background-color: #cad8ef;\n",
       "  color: #000000;\n",
       "}\n",
       "#T_e1fa9_row13_col6 {\n",
       "  background-color: #b5cdfa;\n",
       "  color: #000000;\n",
       "}\n",
       "#T_e1fa9_row13_col10, #T_e1fa9_row13_col12 {\n",
       "  background-color: #bbd1f8;\n",
       "  color: #000000;\n",
       "}\n",
       "#T_e1fa9_row13_col17 {\n",
       "  background-color: #6180e9;\n",
       "  color: #f1f1f1;\n",
       "}\n",
       "#T_e1fa9_row14_col2, #T_e1fa9_row17_col3, #T_e1fa9_row17_col12 {\n",
       "  background-color: #93b5fe;\n",
       "  color: #000000;\n",
       "}\n",
       "#T_e1fa9_row14_col8, #T_e1fa9_row17_col0, #T_e1fa9_row17_col6 {\n",
       "  background-color: #98b9ff;\n",
       "  color: #000000;\n",
       "}\n",
       "#T_e1fa9_row14_col11, #T_e1fa9_row16_col1 {\n",
       "  background-color: #5875e1;\n",
       "  color: #f1f1f1;\n",
       "}\n",
       "#T_e1fa9_row15_col0 {\n",
       "  background-color: #b3cdfb;\n",
       "  color: #000000;\n",
       "}\n",
       "#T_e1fa9_row15_col7 {\n",
       "  background-color: #88abfd;\n",
       "  color: #000000;\n",
       "}\n",
       "</style>\n",
       "<table id=\"T_e1fa9\">\n",
       "  <thead>\n",
       "    <tr>\n",
       "      <th class=\"blank level0\" >&nbsp;</th>\n",
       "      <th id=\"T_e1fa9_level0_col0\" class=\"col_heading level0 col0\" >Score</th>\n",
       "      <th id=\"T_e1fa9_level0_col1\" class=\"col_heading level0 col1\" >Episodes</th>\n",
       "      <th id=\"T_e1fa9_level0_col2\" class=\"col_heading level0 col2\" >Rank</th>\n",
       "      <th id=\"T_e1fa9_level0_col3\" class=\"col_heading level0 col3\" >Popularity</th>\n",
       "      <th id=\"T_e1fa9_level0_col4\" class=\"col_heading level0 col4\" >Favorites</th>\n",
       "      <th id=\"T_e1fa9_level0_col5\" class=\"col_heading level0 col5\" >Scored By</th>\n",
       "      <th id=\"T_e1fa9_level0_col6\" class=\"col_heading level0 col6\" >Members</th>\n",
       "      <th id=\"T_e1fa9_level0_col7\" class=\"col_heading level0 col7\" >Genres2</th>\n",
       "      <th id=\"T_e1fa9_level0_col8\" class=\"col_heading level0 col8\" >Type2</th>\n",
       "      <th id=\"T_e1fa9_level0_col9\" class=\"col_heading level0 col9\" >Aired2</th>\n",
       "      <th id=\"T_e1fa9_level0_col10\" class=\"col_heading level0 col10\" >Premiered2</th>\n",
       "      <th id=\"T_e1fa9_level0_col11\" class=\"col_heading level0 col11\" >Status2</th>\n",
       "      <th id=\"T_e1fa9_level0_col12\" class=\"col_heading level0 col12\" >Producers2</th>\n",
       "      <th id=\"T_e1fa9_level0_col13\" class=\"col_heading level0 col13\" >Licensors2</th>\n",
       "      <th id=\"T_e1fa9_level0_col14\" class=\"col_heading level0 col14\" >Studios2</th>\n",
       "      <th id=\"T_e1fa9_level0_col15\" class=\"col_heading level0 col15\" >Source2</th>\n",
       "      <th id=\"T_e1fa9_level0_col16\" class=\"col_heading level0 col16\" >Duration2</th>\n",
       "      <th id=\"T_e1fa9_level0_col17\" class=\"col_heading level0 col17\" >Rating2</th>\n",
       "    </tr>\n",
       "  </thead>\n",
       "  <tbody>\n",
       "    <tr>\n",
       "      <th id=\"T_e1fa9_level0_row0\" class=\"row_heading level0 row0\" >Score</th>\n",
       "      <td id=\"T_e1fa9_row0_col0\" class=\"data row0 col0\" >1.000000</td>\n",
       "      <td id=\"T_e1fa9_row0_col1\" class=\"data row0 col1\" >0.063062</td>\n",
       "      <td id=\"T_e1fa9_row0_col2\" class=\"data row0 col2\" >-0.487308</td>\n",
       "      <td id=\"T_e1fa9_row0_col3\" class=\"data row0 col3\" >-0.378494</td>\n",
       "      <td id=\"T_e1fa9_row0_col4\" class=\"data row0 col4\" >0.234712</td>\n",
       "      <td id=\"T_e1fa9_row0_col5\" class=\"data row0 col5\" >0.351091</td>\n",
       "      <td id=\"T_e1fa9_row0_col6\" class=\"data row0 col6\" >0.384601</td>\n",
       "      <td id=\"T_e1fa9_row0_col7\" class=\"data row0 col7\" >0.128293</td>\n",
       "      <td id=\"T_e1fa9_row0_col8\" class=\"data row0 col8\" >-0.202985</td>\n",
       "      <td id=\"T_e1fa9_row0_col9\" class=\"data row0 col9\" >0.033248</td>\n",
       "      <td id=\"T_e1fa9_row0_col10\" class=\"data row0 col10\" >0.184380</td>\n",
       "      <td id=\"T_e1fa9_row0_col11\" class=\"data row0 col11\" >0.025816</td>\n",
       "      <td id=\"T_e1fa9_row0_col12\" class=\"data row0 col12\" >0.227117</td>\n",
       "      <td id=\"T_e1fa9_row0_col13\" class=\"data row0 col13\" >0.155237</td>\n",
       "      <td id=\"T_e1fa9_row0_col14\" class=\"data row0 col14\" >-0.017369</td>\n",
       "      <td id=\"T_e1fa9_row0_col15\" class=\"data row0 col15\" >0.051711</td>\n",
       "      <td id=\"T_e1fa9_row0_col16\" class=\"data row0 col16\" >-0.020046</td>\n",
       "      <td id=\"T_e1fa9_row0_col17\" class=\"data row0 col17\" >-0.064177</td>\n",
       "    </tr>\n",
       "    <tr>\n",
       "      <th id=\"T_e1fa9_level0_row1\" class=\"row_heading level0 row1\" >Episodes</th>\n",
       "      <td id=\"T_e1fa9_row1_col0\" class=\"data row1 col0\" >0.063062</td>\n",
       "      <td id=\"T_e1fa9_row1_col1\" class=\"data row1 col1\" >1.000000</td>\n",
       "      <td id=\"T_e1fa9_row1_col2\" class=\"data row1 col2\" >0.062305</td>\n",
       "      <td id=\"T_e1fa9_row1_col3\" class=\"data row1 col3\" >0.090484</td>\n",
       "      <td id=\"T_e1fa9_row1_col4\" class=\"data row1 col4\" >0.042837</td>\n",
       "      <td id=\"T_e1fa9_row1_col5\" class=\"data row1 col5\" >0.042526</td>\n",
       "      <td id=\"T_e1fa9_row1_col6\" class=\"data row1 col6\" >0.026848</td>\n",
       "      <td id=\"T_e1fa9_row1_col7\" class=\"data row1 col7\" >-0.031267</td>\n",
       "      <td id=\"T_e1fa9_row1_col8\" class=\"data row1 col8\" >-0.231972</td>\n",
       "      <td id=\"T_e1fa9_row1_col9\" class=\"data row1 col9\" >0.045413</td>\n",
       "      <td id=\"T_e1fa9_row1_col10\" class=\"data row1 col10\" >0.232142</td>\n",
       "      <td id=\"T_e1fa9_row1_col11\" class=\"data row1 col11\" >0.009378</td>\n",
       "      <td id=\"T_e1fa9_row1_col12\" class=\"data row1 col12\" >0.024723</td>\n",
       "      <td id=\"T_e1fa9_row1_col13\" class=\"data row1 col13\" >0.012998</td>\n",
       "      <td id=\"T_e1fa9_row1_col14\" class=\"data row1 col14\" >-0.029003</td>\n",
       "      <td id=\"T_e1fa9_row1_col15\" class=\"data row1 col15\" >-0.032920</td>\n",
       "      <td id=\"T_e1fa9_row1_col16\" class=\"data row1 col16\" >-0.113297</td>\n",
       "      <td id=\"T_e1fa9_row1_col17\" class=\"data row1 col17\" >0.011022</td>\n",
       "    </tr>\n",
       "    <tr>\n",
       "      <th id=\"T_e1fa9_level0_row2\" class=\"row_heading level0 row2\" >Rank</th>\n",
       "      <td id=\"T_e1fa9_row2_col0\" class=\"data row2 col0\" >-0.487308</td>\n",
       "      <td id=\"T_e1fa9_row2_col1\" class=\"data row2 col1\" >0.062305</td>\n",
       "      <td id=\"T_e1fa9_row2_col2\" class=\"data row2 col2\" >1.000000</td>\n",
       "      <td id=\"T_e1fa9_row2_col3\" class=\"data row2 col3\" >0.816758</td>\n",
       "      <td id=\"T_e1fa9_row2_col4\" class=\"data row2 col4\" >-0.168484</td>\n",
       "      <td id=\"T_e1fa9_row2_col5\" class=\"data row2 col5\" >-0.189198</td>\n",
       "      <td id=\"T_e1fa9_row2_col6\" class=\"data row2 col6\" >-0.338206</td>\n",
       "      <td id=\"T_e1fa9_row2_col7\" class=\"data row2 col7\" >-0.228581</td>\n",
       "      <td id=\"T_e1fa9_row2_col8\" class=\"data row2 col8\" >-0.002288</td>\n",
       "      <td id=\"T_e1fa9_row2_col9\" class=\"data row2 col9\" >-0.113124</td>\n",
       "      <td id=\"T_e1fa9_row2_col10\" class=\"data row2 col10\" >-0.210902</td>\n",
       "      <td id=\"T_e1fa9_row2_col11\" class=\"data row2 col11\" >0.013340</td>\n",
       "      <td id=\"T_e1fa9_row2_col12\" class=\"data row2 col12\" >-0.324319</td>\n",
       "      <td id=\"T_e1fa9_row2_col13\" class=\"data row2 col13\" >-0.201348</td>\n",
       "      <td id=\"T_e1fa9_row2_col14\" class=\"data row2 col14\" >-0.091960</td>\n",
       "      <td id=\"T_e1fa9_row2_col15\" class=\"data row2 col15\" >-0.118472</td>\n",
       "      <td id=\"T_e1fa9_row2_col16\" class=\"data row2 col16\" >0.014131</td>\n",
       "      <td id=\"T_e1fa9_row2_col17\" class=\"data row2 col17\" >0.071624</td>\n",
       "    </tr>\n",
       "    <tr>\n",
       "      <th id=\"T_e1fa9_level0_row3\" class=\"row_heading level0 row3\" >Popularity</th>\n",
       "      <td id=\"T_e1fa9_row3_col0\" class=\"data row3 col0\" >-0.378494</td>\n",
       "      <td id=\"T_e1fa9_row3_col1\" class=\"data row3 col1\" >0.090484</td>\n",
       "      <td id=\"T_e1fa9_row3_col2\" class=\"data row3 col2\" >0.816758</td>\n",
       "      <td id=\"T_e1fa9_row3_col3\" class=\"data row3 col3\" >1.000000</td>\n",
       "      <td id=\"T_e1fa9_row3_col4\" class=\"data row3 col4\" >-0.163138</td>\n",
       "      <td id=\"T_e1fa9_row3_col5\" class=\"data row3 col5\" >-0.204563</td>\n",
       "      <td id=\"T_e1fa9_row3_col6\" class=\"data row3 col6\" >-0.363844</td>\n",
       "      <td id=\"T_e1fa9_row3_col7\" class=\"data row3 col7\" >-0.284111</td>\n",
       "      <td id=\"T_e1fa9_row3_col8\" class=\"data row3 col8\" >0.083983</td>\n",
       "      <td id=\"T_e1fa9_row3_col9\" class=\"data row3 col9\" >-0.162900</td>\n",
       "      <td id=\"T_e1fa9_row3_col10\" class=\"data row3 col10\" >-0.213720</td>\n",
       "      <td id=\"T_e1fa9_row3_col11\" class=\"data row3 col11\" >-0.035663</td>\n",
       "      <td id=\"T_e1fa9_row3_col12\" class=\"data row3 col12\" >-0.394615</td>\n",
       "      <td id=\"T_e1fa9_row3_col13\" class=\"data row3 col13\" >-0.215437</td>\n",
       "      <td id=\"T_e1fa9_row3_col14\" class=\"data row3 col14\" >-0.163527</td>\n",
       "      <td id=\"T_e1fa9_row3_col15\" class=\"data row3 col15\" >-0.184488</td>\n",
       "      <td id=\"T_e1fa9_row3_col16\" class=\"data row3 col16\" >-0.027371</td>\n",
       "      <td id=\"T_e1fa9_row3_col17\" class=\"data row3 col17\" >-0.023015</td>\n",
       "    </tr>\n",
       "    <tr>\n",
       "      <th id=\"T_e1fa9_level0_row4\" class=\"row_heading level0 row4\" >Favorites</th>\n",
       "      <td id=\"T_e1fa9_row4_col0\" class=\"data row4 col0\" >0.234712</td>\n",
       "      <td id=\"T_e1fa9_row4_col1\" class=\"data row4 col1\" >0.042837</td>\n",
       "      <td id=\"T_e1fa9_row4_col2\" class=\"data row4 col2\" >-0.168484</td>\n",
       "      <td id=\"T_e1fa9_row4_col3\" class=\"data row4 col3\" >-0.163138</td>\n",
       "      <td id=\"T_e1fa9_row4_col4\" class=\"data row4 col4\" >1.000000</td>\n",
       "      <td id=\"T_e1fa9_row4_col5\" class=\"data row4 col5\" >0.782739</td>\n",
       "      <td id=\"T_e1fa9_row4_col6\" class=\"data row4 col6\" >0.772880</td>\n",
       "      <td id=\"T_e1fa9_row4_col7\" class=\"data row4 col7\" >0.084904</td>\n",
       "      <td id=\"T_e1fa9_row4_col8\" class=\"data row4 col8\" >-0.097347</td>\n",
       "      <td id=\"T_e1fa9_row4_col9\" class=\"data row4 col9\" >0.022957</td>\n",
       "      <td id=\"T_e1fa9_row4_col10\" class=\"data row4 col10\" >0.067071</td>\n",
       "      <td id=\"T_e1fa9_row4_col11\" class=\"data row4 col11\" >0.005956</td>\n",
       "      <td id=\"T_e1fa9_row4_col12\" class=\"data row4 col12\" >0.134937</td>\n",
       "      <td id=\"T_e1fa9_row4_col13\" class=\"data row4 col13\" >0.119561</td>\n",
       "      <td id=\"T_e1fa9_row4_col14\" class=\"data row4 col14\" >-0.006016</td>\n",
       "      <td id=\"T_e1fa9_row4_col15\" class=\"data row4 col15\" >0.007524</td>\n",
       "      <td id=\"T_e1fa9_row4_col16\" class=\"data row4 col16\" >-0.038541</td>\n",
       "      <td id=\"T_e1fa9_row4_col17\" class=\"data row4 col17\" >0.016647</td>\n",
       "    </tr>\n",
       "    <tr>\n",
       "      <th id=\"T_e1fa9_level0_row5\" class=\"row_heading level0 row5\" >Scored By</th>\n",
       "      <td id=\"T_e1fa9_row5_col0\" class=\"data row5 col0\" >0.351091</td>\n",
       "      <td id=\"T_e1fa9_row5_col1\" class=\"data row5 col1\" >0.042526</td>\n",
       "      <td id=\"T_e1fa9_row5_col2\" class=\"data row5 col2\" >-0.189198</td>\n",
       "      <td id=\"T_e1fa9_row5_col3\" class=\"data row5 col3\" >-0.204563</td>\n",
       "      <td id=\"T_e1fa9_row5_col4\" class=\"data row5 col4\" >0.782739</td>\n",
       "      <td id=\"T_e1fa9_row5_col5\" class=\"data row5 col5\" >1.000000</td>\n",
       "      <td id=\"T_e1fa9_row5_col6\" class=\"data row5 col6\" >0.973110</td>\n",
       "      <td id=\"T_e1fa9_row5_col7\" class=\"data row5 col7\" >0.095017</td>\n",
       "      <td id=\"T_e1fa9_row5_col8\" class=\"data row5 col8\" >-0.175153</td>\n",
       "      <td id=\"T_e1fa9_row5_col9\" class=\"data row5 col9\" >-0.015715</td>\n",
       "      <td id=\"T_e1fa9_row5_col10\" class=\"data row5 col10\" >0.068454</td>\n",
       "      <td id=\"T_e1fa9_row5_col11\" class=\"data row5 col11\" >-0.006677</td>\n",
       "      <td id=\"T_e1fa9_row5_col12\" class=\"data row5 col12\" >0.194980</td>\n",
       "      <td id=\"T_e1fa9_row5_col13\" class=\"data row5 col13\" >0.099023</td>\n",
       "      <td id=\"T_e1fa9_row5_col14\" class=\"data row5 col14\" >-0.031119</td>\n",
       "      <td id=\"T_e1fa9_row5_col15\" class=\"data row5 col15\" >0.018845</td>\n",
       "      <td id=\"T_e1fa9_row5_col16\" class=\"data row5 col16\" >-0.065259</td>\n",
       "      <td id=\"T_e1fa9_row5_col17\" class=\"data row5 col17\" >0.030611</td>\n",
       "    </tr>\n",
       "    <tr>\n",
       "      <th id=\"T_e1fa9_level0_row6\" class=\"row_heading level0 row6\" >Members</th>\n",
       "      <td id=\"T_e1fa9_row6_col0\" class=\"data row6 col0\" >0.384601</td>\n",
       "      <td id=\"T_e1fa9_row6_col1\" class=\"data row6 col1\" >0.026848</td>\n",
       "      <td id=\"T_e1fa9_row6_col2\" class=\"data row6 col2\" >-0.338206</td>\n",
       "      <td id=\"T_e1fa9_row6_col3\" class=\"data row6 col3\" >-0.363844</td>\n",
       "      <td id=\"T_e1fa9_row6_col4\" class=\"data row6 col4\" >0.772880</td>\n",
       "      <td id=\"T_e1fa9_row6_col5\" class=\"data row6 col5\" >0.973110</td>\n",
       "      <td id=\"T_e1fa9_row6_col6\" class=\"data row6 col6\" >1.000000</td>\n",
       "      <td id=\"T_e1fa9_row6_col7\" class=\"data row6 col7\" >0.141319</td>\n",
       "      <td id=\"T_e1fa9_row6_col8\" class=\"data row6 col8\" >-0.189037</td>\n",
       "      <td id=\"T_e1fa9_row6_col9\" class=\"data row6 col9\" >0.010455</td>\n",
       "      <td id=\"T_e1fa9_row6_col10\" class=\"data row6 col10\" >0.107231</td>\n",
       "      <td id=\"T_e1fa9_row6_col11\" class=\"data row6 col11\" >-0.018183</td>\n",
       "      <td id=\"T_e1fa9_row6_col12\" class=\"data row6 col12\" >0.268142</td>\n",
       "      <td id=\"T_e1fa9_row6_col13\" class=\"data row6 col13\" >0.132704</td>\n",
       "      <td id=\"T_e1fa9_row6_col14\" class=\"data row6 col14\" >-0.003709</td>\n",
       "      <td id=\"T_e1fa9_row6_col15\" class=\"data row6 col15\" >0.047906</td>\n",
       "      <td id=\"T_e1fa9_row6_col16\" class=\"data row6 col16\" >-0.068851</td>\n",
       "      <td id=\"T_e1fa9_row6_col17\" class=\"data row6 col17\" >0.019976</td>\n",
       "    </tr>\n",
       "    <tr>\n",
       "      <th id=\"T_e1fa9_level0_row7\" class=\"row_heading level0 row7\" >Genres2</th>\n",
       "      <td id=\"T_e1fa9_row7_col0\" class=\"data row7 col0\" >0.128293</td>\n",
       "      <td id=\"T_e1fa9_row7_col1\" class=\"data row7 col1\" >-0.031267</td>\n",
       "      <td id=\"T_e1fa9_row7_col2\" class=\"data row7 col2\" >-0.228581</td>\n",
       "      <td id=\"T_e1fa9_row7_col3\" class=\"data row7 col3\" >-0.284111</td>\n",
       "      <td id=\"T_e1fa9_row7_col4\" class=\"data row7 col4\" >0.084904</td>\n",
       "      <td id=\"T_e1fa9_row7_col5\" class=\"data row7 col5\" >0.095017</td>\n",
       "      <td id=\"T_e1fa9_row7_col6\" class=\"data row7 col6\" >0.141319</td>\n",
       "      <td id=\"T_e1fa9_row7_col7\" class=\"data row7 col7\" >1.000000</td>\n",
       "      <td id=\"T_e1fa9_row7_col8\" class=\"data row7 col8\" >-0.076221</td>\n",
       "      <td id=\"T_e1fa9_row7_col9\" class=\"data row7 col9\" >0.062166</td>\n",
       "      <td id=\"T_e1fa9_row7_col10\" class=\"data row7 col10\" >0.088951</td>\n",
       "      <td id=\"T_e1fa9_row7_col11\" class=\"data row7 col11\" >0.003952</td>\n",
       "      <td id=\"T_e1fa9_row7_col12\" class=\"data row7 col12\" >0.159779</td>\n",
       "      <td id=\"T_e1fa9_row7_col13\" class=\"data row7 col13\" >0.149307</td>\n",
       "      <td id=\"T_e1fa9_row7_col14\" class=\"data row7 col14\" >0.065684</td>\n",
       "      <td id=\"T_e1fa9_row7_col15\" class=\"data row7 col15\" >0.018630</td>\n",
       "      <td id=\"T_e1fa9_row7_col16\" class=\"data row7 col16\" >0.071120</td>\n",
       "      <td id=\"T_e1fa9_row7_col17\" class=\"data row7 col17\" >0.118626</td>\n",
       "    </tr>\n",
       "    <tr>\n",
       "      <th id=\"T_e1fa9_level0_row8\" class=\"row_heading level0 row8\" >Type2</th>\n",
       "      <td id=\"T_e1fa9_row8_col0\" class=\"data row8 col0\" >-0.202985</td>\n",
       "      <td id=\"T_e1fa9_row8_col1\" class=\"data row8 col1\" >-0.231972</td>\n",
       "      <td id=\"T_e1fa9_row8_col2\" class=\"data row8 col2\" >-0.002288</td>\n",
       "      <td id=\"T_e1fa9_row8_col3\" class=\"data row8 col3\" >0.083983</td>\n",
       "      <td id=\"T_e1fa9_row8_col4\" class=\"data row8 col4\" >-0.097347</td>\n",
       "      <td id=\"T_e1fa9_row8_col5\" class=\"data row8 col5\" >-0.175153</td>\n",
       "      <td id=\"T_e1fa9_row8_col6\" class=\"data row8 col6\" >-0.189037</td>\n",
       "      <td id=\"T_e1fa9_row8_col7\" class=\"data row8 col7\" >-0.076221</td>\n",
       "      <td id=\"T_e1fa9_row8_col8\" class=\"data row8 col8\" >1.000000</td>\n",
       "      <td id=\"T_e1fa9_row8_col9\" class=\"data row8 col9\" >0.024187</td>\n",
       "      <td id=\"T_e1fa9_row8_col10\" class=\"data row8 col10\" >-0.420267</td>\n",
       "      <td id=\"T_e1fa9_row8_col11\" class=\"data row8 col11\" >0.004147</td>\n",
       "      <td id=\"T_e1fa9_row8_col12\" class=\"data row8 col12\" >-0.236354</td>\n",
       "      <td id=\"T_e1fa9_row8_col13\" class=\"data row8 col13\" >-0.091541</td>\n",
       "      <td id=\"T_e1fa9_row8_col14\" class=\"data row8 col14\" >-0.018028</td>\n",
       "      <td id=\"T_e1fa9_row8_col15\" class=\"data row8 col15\" >-0.000899</td>\n",
       "      <td id=\"T_e1fa9_row8_col16\" class=\"data row8 col16\" >0.063595</td>\n",
       "      <td id=\"T_e1fa9_row8_col17\" class=\"data row8 col17\" >-0.100251</td>\n",
       "    </tr>\n",
       "    <tr>\n",
       "      <th id=\"T_e1fa9_level0_row9\" class=\"row_heading level0 row9\" >Aired2</th>\n",
       "      <td id=\"T_e1fa9_row9_col0\" class=\"data row9 col0\" >0.033248</td>\n",
       "      <td id=\"T_e1fa9_row9_col1\" class=\"data row9 col1\" >0.045413</td>\n",
       "      <td id=\"T_e1fa9_row9_col2\" class=\"data row9 col2\" >-0.113124</td>\n",
       "      <td id=\"T_e1fa9_row9_col3\" class=\"data row9 col3\" >-0.162900</td>\n",
       "      <td id=\"T_e1fa9_row9_col4\" class=\"data row9 col4\" >0.022957</td>\n",
       "      <td id=\"T_e1fa9_row9_col5\" class=\"data row9 col5\" >-0.015715</td>\n",
       "      <td id=\"T_e1fa9_row9_col6\" class=\"data row9 col6\" >0.010455</td>\n",
       "      <td id=\"T_e1fa9_row9_col7\" class=\"data row9 col7\" >0.062166</td>\n",
       "      <td id=\"T_e1fa9_row9_col8\" class=\"data row9 col8\" >0.024187</td>\n",
       "      <td id=\"T_e1fa9_row9_col9\" class=\"data row9 col9\" >1.000000</td>\n",
       "      <td id=\"T_e1fa9_row9_col10\" class=\"data row9 col10\" >0.212495</td>\n",
       "      <td id=\"T_e1fa9_row9_col11\" class=\"data row9 col11\" >-0.035127</td>\n",
       "      <td id=\"T_e1fa9_row9_col12\" class=\"data row9 col12\" >0.035773</td>\n",
       "      <td id=\"T_e1fa9_row9_col13\" class=\"data row9 col13\" >0.077513</td>\n",
       "      <td id=\"T_e1fa9_row9_col14\" class=\"data row9 col14\" >0.081658</td>\n",
       "      <td id=\"T_e1fa9_row9_col15\" class=\"data row9 col15\" >0.039198</td>\n",
       "      <td id=\"T_e1fa9_row9_col16\" class=\"data row9 col16\" >-0.026191</td>\n",
       "      <td id=\"T_e1fa9_row9_col17\" class=\"data row9 col17\" >0.013854</td>\n",
       "    </tr>\n",
       "    <tr>\n",
       "      <th id=\"T_e1fa9_level0_row10\" class=\"row_heading level0 row10\" >Premiered2</th>\n",
       "      <td id=\"T_e1fa9_row10_col0\" class=\"data row10 col0\" >0.184380</td>\n",
       "      <td id=\"T_e1fa9_row10_col1\" class=\"data row10 col1\" >0.232142</td>\n",
       "      <td id=\"T_e1fa9_row10_col2\" class=\"data row10 col2\" >-0.210902</td>\n",
       "      <td id=\"T_e1fa9_row10_col3\" class=\"data row10 col3\" >-0.213720</td>\n",
       "      <td id=\"T_e1fa9_row10_col4\" class=\"data row10 col4\" >0.067071</td>\n",
       "      <td id=\"T_e1fa9_row10_col5\" class=\"data row10 col5\" >0.068454</td>\n",
       "      <td id=\"T_e1fa9_row10_col6\" class=\"data row10 col6\" >0.107231</td>\n",
       "      <td id=\"T_e1fa9_row10_col7\" class=\"data row10 col7\" >0.088951</td>\n",
       "      <td id=\"T_e1fa9_row10_col8\" class=\"data row10 col8\" >-0.420267</td>\n",
       "      <td id=\"T_e1fa9_row10_col9\" class=\"data row10 col9\" >0.212495</td>\n",
       "      <td id=\"T_e1fa9_row10_col10\" class=\"data row10 col10\" >1.000000</td>\n",
       "      <td id=\"T_e1fa9_row10_col11\" class=\"data row10 col11\" >0.011826</td>\n",
       "      <td id=\"T_e1fa9_row10_col12\" class=\"data row10 col12\" >0.188070</td>\n",
       "      <td id=\"T_e1fa9_row10_col13\" class=\"data row10 col13\" >0.125584</td>\n",
       "      <td id=\"T_e1fa9_row10_col14\" class=\"data row10 col14\" >0.024251</td>\n",
       "      <td id=\"T_e1fa9_row10_col15\" class=\"data row10 col15\" >0.026165</td>\n",
       "      <td id=\"T_e1fa9_row10_col16\" class=\"data row10 col16\" >-0.211813</td>\n",
       "      <td id=\"T_e1fa9_row10_col17\" class=\"data row10 col17\" >-0.022017</td>\n",
       "    </tr>\n",
       "    <tr>\n",
       "      <th id=\"T_e1fa9_level0_row11\" class=\"row_heading level0 row11\" >Status2</th>\n",
       "      <td id=\"T_e1fa9_row11_col0\" class=\"data row11 col0\" >0.025816</td>\n",
       "      <td id=\"T_e1fa9_row11_col1\" class=\"data row11 col1\" >0.009378</td>\n",
       "      <td id=\"T_e1fa9_row11_col2\" class=\"data row11 col2\" >0.013340</td>\n",
       "      <td id=\"T_e1fa9_row11_col3\" class=\"data row11 col3\" >-0.035663</td>\n",
       "      <td id=\"T_e1fa9_row11_col4\" class=\"data row11 col4\" >0.005956</td>\n",
       "      <td id=\"T_e1fa9_row11_col5\" class=\"data row11 col5\" >-0.006677</td>\n",
       "      <td id=\"T_e1fa9_row11_col6\" class=\"data row11 col6\" >-0.018183</td>\n",
       "      <td id=\"T_e1fa9_row11_col7\" class=\"data row11 col7\" >0.003952</td>\n",
       "      <td id=\"T_e1fa9_row11_col8\" class=\"data row11 col8\" >0.004147</td>\n",
       "      <td id=\"T_e1fa9_row11_col9\" class=\"data row11 col9\" >-0.035127</td>\n",
       "      <td id=\"T_e1fa9_row11_col10\" class=\"data row11 col10\" >0.011826</td>\n",
       "      <td id=\"T_e1fa9_row11_col11\" class=\"data row11 col11\" >1.000000</td>\n",
       "      <td id=\"T_e1fa9_row11_col12\" class=\"data row11 col12\" >0.019831</td>\n",
       "      <td id=\"T_e1fa9_row11_col13\" class=\"data row11 col13\" >-0.010095</td>\n",
       "      <td id=\"T_e1fa9_row11_col14\" class=\"data row11 col14\" >0.059618</td>\n",
       "      <td id=\"T_e1fa9_row11_col15\" class=\"data row11 col15\" >0.072401</td>\n",
       "      <td id=\"T_e1fa9_row11_col16\" class=\"data row11 col16\" >-0.038021</td>\n",
       "      <td id=\"T_e1fa9_row11_col17\" class=\"data row11 col17\" >0.100922</td>\n",
       "    </tr>\n",
       "    <tr>\n",
       "      <th id=\"T_e1fa9_level0_row12\" class=\"row_heading level0 row12\" >Producers2</th>\n",
       "      <td id=\"T_e1fa9_row12_col0\" class=\"data row12 col0\" >0.227117</td>\n",
       "      <td id=\"T_e1fa9_row12_col1\" class=\"data row12 col1\" >0.024723</td>\n",
       "      <td id=\"T_e1fa9_row12_col2\" class=\"data row12 col2\" >-0.324319</td>\n",
       "      <td id=\"T_e1fa9_row12_col3\" class=\"data row12 col3\" >-0.394615</td>\n",
       "      <td id=\"T_e1fa9_row12_col4\" class=\"data row12 col4\" >0.134937</td>\n",
       "      <td id=\"T_e1fa9_row12_col5\" class=\"data row12 col5\" >0.194980</td>\n",
       "      <td id=\"T_e1fa9_row12_col6\" class=\"data row12 col6\" >0.268142</td>\n",
       "      <td id=\"T_e1fa9_row12_col7\" class=\"data row12 col7\" >0.159779</td>\n",
       "      <td id=\"T_e1fa9_row12_col8\" class=\"data row12 col8\" >-0.236354</td>\n",
       "      <td id=\"T_e1fa9_row12_col9\" class=\"data row12 col9\" >0.035773</td>\n",
       "      <td id=\"T_e1fa9_row12_col10\" class=\"data row12 col10\" >0.188070</td>\n",
       "      <td id=\"T_e1fa9_row12_col11\" class=\"data row12 col11\" >0.019831</td>\n",
       "      <td id=\"T_e1fa9_row12_col12\" class=\"data row12 col12\" >1.000000</td>\n",
       "      <td id=\"T_e1fa9_row12_col13\" class=\"data row12 col13\" >0.140952</td>\n",
       "      <td id=\"T_e1fa9_row12_col14\" class=\"data row12 col14\" >0.118395</td>\n",
       "      <td id=\"T_e1fa9_row12_col15\" class=\"data row12 col15\" >0.086311</td>\n",
       "      <td id=\"T_e1fa9_row12_col16\" class=\"data row12 col16\" >-0.054947</td>\n",
       "      <td id=\"T_e1fa9_row12_col17\" class=\"data row12 col17\" >-0.022994</td>\n",
       "    </tr>\n",
       "    <tr>\n",
       "      <th id=\"T_e1fa9_level0_row13\" class=\"row_heading level0 row13\" >Licensors2</th>\n",
       "      <td id=\"T_e1fa9_row13_col0\" class=\"data row13 col0\" >0.155237</td>\n",
       "      <td id=\"T_e1fa9_row13_col1\" class=\"data row13 col1\" >0.012998</td>\n",
       "      <td id=\"T_e1fa9_row13_col2\" class=\"data row13 col2\" >-0.201348</td>\n",
       "      <td id=\"T_e1fa9_row13_col3\" class=\"data row13 col3\" >-0.215437</td>\n",
       "      <td id=\"T_e1fa9_row13_col4\" class=\"data row13 col4\" >0.119561</td>\n",
       "      <td id=\"T_e1fa9_row13_col5\" class=\"data row13 col5\" >0.099023</td>\n",
       "      <td id=\"T_e1fa9_row13_col6\" class=\"data row13 col6\" >0.132704</td>\n",
       "      <td id=\"T_e1fa9_row13_col7\" class=\"data row13 col7\" >0.149307</td>\n",
       "      <td id=\"T_e1fa9_row13_col8\" class=\"data row13 col8\" >-0.091541</td>\n",
       "      <td id=\"T_e1fa9_row13_col9\" class=\"data row13 col9\" >0.077513</td>\n",
       "      <td id=\"T_e1fa9_row13_col10\" class=\"data row13 col10\" >0.125584</td>\n",
       "      <td id=\"T_e1fa9_row13_col11\" class=\"data row13 col11\" >-0.010095</td>\n",
       "      <td id=\"T_e1fa9_row13_col12\" class=\"data row13 col12\" >0.140952</td>\n",
       "      <td id=\"T_e1fa9_row13_col13\" class=\"data row13 col13\" >1.000000</td>\n",
       "      <td id=\"T_e1fa9_row13_col14\" class=\"data row13 col14\" >0.024357</td>\n",
       "      <td id=\"T_e1fa9_row13_col15\" class=\"data row13 col15\" >-0.004152</td>\n",
       "      <td id=\"T_e1fa9_row13_col16\" class=\"data row13 col16\" >0.047528</td>\n",
       "      <td id=\"T_e1fa9_row13_col17\" class=\"data row13 col17\" >0.035365</td>\n",
       "    </tr>\n",
       "    <tr>\n",
       "      <th id=\"T_e1fa9_level0_row14\" class=\"row_heading level0 row14\" >Studios2</th>\n",
       "      <td id=\"T_e1fa9_row14_col0\" class=\"data row14 col0\" >-0.017369</td>\n",
       "      <td id=\"T_e1fa9_row14_col1\" class=\"data row14 col1\" >-0.029003</td>\n",
       "      <td id=\"T_e1fa9_row14_col2\" class=\"data row14 col2\" >-0.091960</td>\n",
       "      <td id=\"T_e1fa9_row14_col3\" class=\"data row14 col3\" >-0.163527</td>\n",
       "      <td id=\"T_e1fa9_row14_col4\" class=\"data row14 col4\" >-0.006016</td>\n",
       "      <td id=\"T_e1fa9_row14_col5\" class=\"data row14 col5\" >-0.031119</td>\n",
       "      <td id=\"T_e1fa9_row14_col6\" class=\"data row14 col6\" >-0.003709</td>\n",
       "      <td id=\"T_e1fa9_row14_col7\" class=\"data row14 col7\" >0.065684</td>\n",
       "      <td id=\"T_e1fa9_row14_col8\" class=\"data row14 col8\" >-0.018028</td>\n",
       "      <td id=\"T_e1fa9_row14_col9\" class=\"data row14 col9\" >0.081658</td>\n",
       "      <td id=\"T_e1fa9_row14_col10\" class=\"data row14 col10\" >0.024251</td>\n",
       "      <td id=\"T_e1fa9_row14_col11\" class=\"data row14 col11\" >0.059618</td>\n",
       "      <td id=\"T_e1fa9_row14_col12\" class=\"data row14 col12\" >0.118395</td>\n",
       "      <td id=\"T_e1fa9_row14_col13\" class=\"data row14 col13\" >0.024357</td>\n",
       "      <td id=\"T_e1fa9_row14_col14\" class=\"data row14 col14\" >1.000000</td>\n",
       "      <td id=\"T_e1fa9_row14_col15\" class=\"data row14 col15\" >0.056939</td>\n",
       "      <td id=\"T_e1fa9_row14_col16\" class=\"data row14 col16\" >0.013560</td>\n",
       "      <td id=\"T_e1fa9_row14_col17\" class=\"data row14 col17\" >0.010913</td>\n",
       "    </tr>\n",
       "    <tr>\n",
       "      <th id=\"T_e1fa9_level0_row15\" class=\"row_heading level0 row15\" >Source2</th>\n",
       "      <td id=\"T_e1fa9_row15_col0\" class=\"data row15 col0\" >0.051711</td>\n",
       "      <td id=\"T_e1fa9_row15_col1\" class=\"data row15 col1\" >-0.032920</td>\n",
       "      <td id=\"T_e1fa9_row15_col2\" class=\"data row15 col2\" >-0.118472</td>\n",
       "      <td id=\"T_e1fa9_row15_col3\" class=\"data row15 col3\" >-0.184488</td>\n",
       "      <td id=\"T_e1fa9_row15_col4\" class=\"data row15 col4\" >0.007524</td>\n",
       "      <td id=\"T_e1fa9_row15_col5\" class=\"data row15 col5\" >0.018845</td>\n",
       "      <td id=\"T_e1fa9_row15_col6\" class=\"data row15 col6\" >0.047906</td>\n",
       "      <td id=\"T_e1fa9_row15_col7\" class=\"data row15 col7\" >0.018630</td>\n",
       "      <td id=\"T_e1fa9_row15_col8\" class=\"data row15 col8\" >-0.000899</td>\n",
       "      <td id=\"T_e1fa9_row15_col9\" class=\"data row15 col9\" >0.039198</td>\n",
       "      <td id=\"T_e1fa9_row15_col10\" class=\"data row15 col10\" >0.026165</td>\n",
       "      <td id=\"T_e1fa9_row15_col11\" class=\"data row15 col11\" >0.072401</td>\n",
       "      <td id=\"T_e1fa9_row15_col12\" class=\"data row15 col12\" >0.086311</td>\n",
       "      <td id=\"T_e1fa9_row15_col13\" class=\"data row15 col13\" >-0.004152</td>\n",
       "      <td id=\"T_e1fa9_row15_col14\" class=\"data row15 col14\" >0.056939</td>\n",
       "      <td id=\"T_e1fa9_row15_col15\" class=\"data row15 col15\" >1.000000</td>\n",
       "      <td id=\"T_e1fa9_row15_col16\" class=\"data row15 col16\" >-0.011232</td>\n",
       "      <td id=\"T_e1fa9_row15_col17\" class=\"data row15 col17\" >-0.020022</td>\n",
       "    </tr>\n",
       "    <tr>\n",
       "      <th id=\"T_e1fa9_level0_row16\" class=\"row_heading level0 row16\" >Duration2</th>\n",
       "      <td id=\"T_e1fa9_row16_col0\" class=\"data row16 col0\" >-0.020046</td>\n",
       "      <td id=\"T_e1fa9_row16_col1\" class=\"data row16 col1\" >-0.113297</td>\n",
       "      <td id=\"T_e1fa9_row16_col2\" class=\"data row16 col2\" >0.014131</td>\n",
       "      <td id=\"T_e1fa9_row16_col3\" class=\"data row16 col3\" >-0.027371</td>\n",
       "      <td id=\"T_e1fa9_row16_col4\" class=\"data row16 col4\" >-0.038541</td>\n",
       "      <td id=\"T_e1fa9_row16_col5\" class=\"data row16 col5\" >-0.065259</td>\n",
       "      <td id=\"T_e1fa9_row16_col6\" class=\"data row16 col6\" >-0.068851</td>\n",
       "      <td id=\"T_e1fa9_row16_col7\" class=\"data row16 col7\" >0.071120</td>\n",
       "      <td id=\"T_e1fa9_row16_col8\" class=\"data row16 col8\" >0.063595</td>\n",
       "      <td id=\"T_e1fa9_row16_col9\" class=\"data row16 col9\" >-0.026191</td>\n",
       "      <td id=\"T_e1fa9_row16_col10\" class=\"data row16 col10\" >-0.211813</td>\n",
       "      <td id=\"T_e1fa9_row16_col11\" class=\"data row16 col11\" >-0.038021</td>\n",
       "      <td id=\"T_e1fa9_row16_col12\" class=\"data row16 col12\" >-0.054947</td>\n",
       "      <td id=\"T_e1fa9_row16_col13\" class=\"data row16 col13\" >0.047528</td>\n",
       "      <td id=\"T_e1fa9_row16_col14\" class=\"data row16 col14\" >0.013560</td>\n",
       "      <td id=\"T_e1fa9_row16_col15\" class=\"data row16 col15\" >-0.011232</td>\n",
       "      <td id=\"T_e1fa9_row16_col16\" class=\"data row16 col16\" >1.000000</td>\n",
       "      <td id=\"T_e1fa9_row16_col17\" class=\"data row16 col17\" >0.069086</td>\n",
       "    </tr>\n",
       "    <tr>\n",
       "      <th id=\"T_e1fa9_level0_row17\" class=\"row_heading level0 row17\" >Rating2</th>\n",
       "      <td id=\"T_e1fa9_row17_col0\" class=\"data row17 col0\" >-0.064177</td>\n",
       "      <td id=\"T_e1fa9_row17_col1\" class=\"data row17 col1\" >0.011022</td>\n",
       "      <td id=\"T_e1fa9_row17_col2\" class=\"data row17 col2\" >0.071624</td>\n",
       "      <td id=\"T_e1fa9_row17_col3\" class=\"data row17 col3\" >-0.023015</td>\n",
       "      <td id=\"T_e1fa9_row17_col4\" class=\"data row17 col4\" >0.016647</td>\n",
       "      <td id=\"T_e1fa9_row17_col5\" class=\"data row17 col5\" >0.030611</td>\n",
       "      <td id=\"T_e1fa9_row17_col6\" class=\"data row17 col6\" >0.019976</td>\n",
       "      <td id=\"T_e1fa9_row17_col7\" class=\"data row17 col7\" >0.118626</td>\n",
       "      <td id=\"T_e1fa9_row17_col8\" class=\"data row17 col8\" >-0.100251</td>\n",
       "      <td id=\"T_e1fa9_row17_col9\" class=\"data row17 col9\" >0.013854</td>\n",
       "      <td id=\"T_e1fa9_row17_col10\" class=\"data row17 col10\" >-0.022017</td>\n",
       "      <td id=\"T_e1fa9_row17_col11\" class=\"data row17 col11\" >0.100922</td>\n",
       "      <td id=\"T_e1fa9_row17_col12\" class=\"data row17 col12\" >-0.022994</td>\n",
       "      <td id=\"T_e1fa9_row17_col13\" class=\"data row17 col13\" >0.035365</td>\n",
       "      <td id=\"T_e1fa9_row17_col14\" class=\"data row17 col14\" >0.010913</td>\n",
       "      <td id=\"T_e1fa9_row17_col15\" class=\"data row17 col15\" >-0.020022</td>\n",
       "      <td id=\"T_e1fa9_row17_col16\" class=\"data row17 col16\" >0.069086</td>\n",
       "      <td id=\"T_e1fa9_row17_col17\" class=\"data row17 col17\" >1.000000</td>\n",
       "    </tr>\n",
       "  </tbody>\n",
       "</table>\n"
      ],
      "text/plain": [
       "<pandas.io.formats.style.Styler at 0x139d7145a60>"
      ]
     },
     "execution_count": 83,
     "metadata": {},
     "output_type": "execute_result"
    }
   ],
   "source": [
    "df = df.na.drop()\n",
    "df.count()\n",
    "\n",
    "vector_col = \"corr_features\"\n",
    "assembler = VectorAssembler(inputCols=df.columns, outputCol=vector_col)\n",
    "df_vector = assembler.transform(df).select(vector_col)\n",
    "\n",
    "corr = Correlation.corr(df_vector, vector_col)\n",
    "\n",
    "matrix = corr.collect()[0][0] \n",
    "corr_matrix = matrix.toArray().tolist() \n",
    "corr_matrix_df = pd.DataFrame(data=corr_matrix, columns = df.columns, index=df.columns) \n",
    "corr_matrix_df.style.background_gradient(cmap='coolwarm')"
   ]
  },
  {
   "cell_type": "markdown",
   "id": "d1e13fc0-276a-4928-8de6-c1e5441e143f",
   "metadata": {},
   "source": [
    "### Choosing the columns we keep based on the matrix"
   ]
  },
  {
   "cell_type": "markdown",
   "id": "258074f2-0c09-4eb1-985b-a5c14c6ee2a0",
   "metadata": {},
   "source": [
    "Absolute value > 0.2"
   ]
  },
  {
   "cell_type": "code",
   "execution_count": 84,
   "id": "62c00710-bd7c-43ad-ad20-e18c2ac85d2d",
   "metadata": {},
   "outputs": [
    {
     "name": "stdout",
     "output_type": "stream",
     "text": [
      "+-----+----+----------+---------+-------+---------+----------+\n",
      "|Score|Rank|Popularity|Scored By|Members|Favorites|Producers2|\n",
      "+-----+----+----------+---------+-------+---------+----------+\n",
      "| 8.75|  41|        43|   914193|1771505|    78525|       4.0|\n",
      "| 8.38| 189|       602|   206248| 360978|     1448|     925.0|\n",
      "| 8.22| 328|       246|   356739| 727252|    15035|      23.0|\n",
      "| 7.25|2764|      1795|    42829| 111931|      613|    1537.0|\n",
      "| 6.94|4240|      5126|     6413|  15001|       14|     116.0|\n",
      "+-----+----+----------+---------+-------+---------+----------+\n",
      "only showing top 5 rows\n",
      "\n"
     ]
    }
   ],
   "source": [
    "final_df = df.select([\"Score\", \"Rank\", \"Popularity\", \"Scored By\", \"Members\", \"Favorites\", \"Producers2\"])\n",
    "final_df.show(5)"
   ]
  },
  {
   "cell_type": "markdown",
   "id": "060bde66-2a66-407a-bb32-ee941af0e768",
   "metadata": {},
   "source": [
    "### Save the dataset we will use"
   ]
  },
  {
   "cell_type": "code",
   "execution_count": 85,
   "id": "826d3494-4028-428b-882a-79fa30ed84d0",
   "metadata": {},
   "outputs": [],
   "source": [
    "final_df.repartition(1).write.option(\"header\", True).csv(\"anime\")"
   ]
  },
  {
   "cell_type": "markdown",
   "id": "2fbdf8d3-9baa-41eb-9e3f-013a5a1117b2",
   "metadata": {},
   "source": [
    "# Training Algorithms"
   ]
  },
  {
   "cell_type": "markdown",
   "id": "a2a91049-8231-494b-9c7d-f614429c565a",
   "metadata": {},
   "source": [
    "### Imports"
   ]
  },
  {
   "cell_type": "code",
   "execution_count": 3,
   "id": "c9854f26-ce5a-47d8-9bff-5e3b66898e62",
   "metadata": {},
   "outputs": [],
   "source": [
    "from pyspark.sql import SparkSession\n",
    "from pyspark.sql.types import StructType, StructField, IntegerType, DoubleType, BooleanType, FloatType\n",
    "from pyspark.ml.feature import VectorAssembler\n",
    "from pyspark.ml.evaluation import RegressionEvaluator\n",
    "from pyspark.ml.regression import LinearRegression, RandomForestRegressor, GBTRegressor, \\\n",
    "                                    GBTRegressionModel, RandomForestRegressionModel, LinearRegressionModel\n",
    "from pyspark.mllib.evaluation import MulticlassMetrics\n",
    "\n",
    "import pyspark.sql.functions as F\n",
    "import matplotlib.pyplot as plt\n",
    "import os\n",
    "import sys\n",
    "import findspark"
   ]
  },
  {
   "cell_type": "markdown",
   "id": "fb01109c-db81-4597-ab36-9e39be58277f",
   "metadata": {},
   "source": [
    "### Reading the dataset"
   ]
  },
  {
   "cell_type": "code",
   "execution_count": 4,
   "id": "573911f8-6620-4b90-a0d9-a9fd7536b6c2",
   "metadata": {},
   "outputs": [
    {
     "name": "stdout",
     "output_type": "stream",
     "text": [
      "+-----+----+----------+---------+-------+---------+----------+\n",
      "|Score|Rank|Popularity|Scored By|Members|Favorites|Producers2|\n",
      "+-----+----+----------+---------+-------+---------+----------+\n",
      "| 8.75|  41|        43|   914193|1771505|    78525|       4.0|\n",
      "| 8.38| 189|       602|   206248| 360978|     1448|     925.0|\n",
      "| 8.22| 328|       246|   356739| 727252|    15035|      23.0|\n",
      "| 7.25|2764|      1795|    42829| 111931|      613|    1537.0|\n",
      "| 6.94|4240|      5126|     6413|  15001|       14|     116.0|\n",
      "+-----+----+----------+---------+-------+---------+----------+\n",
      "only showing top 5 rows\n",
      "\n"
     ]
    }
   ],
   "source": [
    "df = spark.read.csv(\"anime_dataset_big.csv\", header=True, inferSchema=True)\n",
    "df.show(5)"
   ]
  },
  {
   "cell_type": "markdown",
   "id": "bf17ef03-280e-48f4-a5ce-31c4c96769f0",
   "metadata": {},
   "source": [
    "### Assembling the features into a vector"
   ]
  },
  {
   "cell_type": "code",
   "execution_count": 5,
   "id": "bcdd00bf-7839-48b2-844c-1d27d74b2fa5",
   "metadata": {
    "scrolled": true
   },
   "outputs": [],
   "source": [
    "df = df.limit(65_000_000)\n",
    "input_cols = df.columns\n",
    "input_cols.remove(\"Score\")\n",
    "\n",
    "assembler = VectorAssembler(inputCols=input_cols, outputCol='features')\n",
    "output = assembler.transform(df)\n",
    "\n",
    "final_data = output.select([\"features\", \"Score\"])"
   ]
  },
  {
   "cell_type": "markdown",
   "id": "3539e1b3-de07-4683-8d41-8f297af74bb5",
   "metadata": {},
   "source": [
    "### Splitting the data into training and testing data"
   ]
  },
  {
   "cell_type": "code",
   "execution_count": 6,
   "id": "0828b2e8-4c98-4d48-8859-d8835ffb2629",
   "metadata": {},
   "outputs": [],
   "source": [
    "train_data, test_data = final_data.randomSplit([0.7, 0.3], seed = 42)"
   ]
  },
  {
   "cell_type": "code",
   "execution_count": 7,
   "id": "254eb768-7d99-45b3-b376-9ce10079df02",
   "metadata": {},
   "outputs": [
    {
     "name": "stdout",
     "output_type": "stream",
     "text": [
      "+-------+------------------+\n",
      "|summary|             Score|\n",
      "+-------+------------------+\n",
      "|  count|          45499529|\n",
      "|   mean| 6.380970455721768|\n",
      "| stddev|0.7371901270070053|\n",
      "|    min|              1.85|\n",
      "|    max|               9.1|\n",
      "+-------+------------------+\n",
      "\n",
      "+-------+------------------+\n",
      "|summary|             Score|\n",
      "+-------+------------------+\n",
      "|  count|          19500471|\n",
      "|   mean| 6.380537298773329|\n",
      "| stddev|0.7370293812383691|\n",
      "|    min|              1.85|\n",
      "|    max|               9.1|\n",
      "+-------+------------------+\n",
      "\n"
     ]
    }
   ],
   "source": [
    "train_data.describe().show()\n",
    "test_data.describe().show()"
   ]
  },
  {
   "cell_type": "markdown",
   "id": "d669bc83-0bc7-4857-be0d-f34a1fb694f2",
   "metadata": {},
   "source": [
    "# Linear Regression"
   ]
  },
  {
   "cell_type": "code",
   "execution_count": 6,
   "id": "144708c8-00f9-4477-9e82-398cbbc84dc1",
   "metadata": {},
   "outputs": [],
   "source": [
    "lr = LinearRegression(labelCol='Score')\n"
   ]
  },
  {
   "cell_type": "code",
   "execution_count": 8,
   "id": "91483623-8278-4229-91e0-e89643b45d36",
   "metadata": {},
   "outputs": [
    {
     "name": "stdout",
     "output_type": "stream",
     "text": [
      "438.21549010276794 seconds\n"
     ]
    }
   ],
   "source": [
    "from time import time\n",
    "\n",
    "startTime = time()\n",
    "\n",
    "lr_model = lr.fit(train_data)\n",
    "\n",
    "endTime = time()\n",
    "print(f\"{endTime - startTime} seconds\")"
   ]
  },
  {
   "cell_type": "code",
   "execution_count": null,
   "id": "fb8a1d61-fc9a-41e6-9930-c272df0e5df9",
   "metadata": {},
   "outputs": [],
   "source": [
    "lr_model = LinearRegressionModel.load(\"LR_Model\")"
   ]
  },
  {
   "cell_type": "code",
   "execution_count": 95,
   "id": "5fde2ebc-b9cd-465b-b2f3-bc6d83773cd7",
   "metadata": {},
   "outputs": [],
   "source": [
    "predictions = lr_model.transform(test_data)"
   ]
  },
  {
   "cell_type": "code",
   "execution_count": 96,
   "id": "9eb0f3a4-4f54-433c-a552-bd1d67af6f0e",
   "metadata": {},
   "outputs": [
    {
     "name": "stdout",
     "output_type": "stream",
     "text": [
      "+-----------------+----------------+-----------------+\n",
      "|         features|           Score|       prediction|\n",
      "+-----------------+----------------+-----------------+\n",
      "|(6,[2],[29967.0])|6.38084071642576|7.288456216637884|\n",
      "|(6,[2],[29967.0])|6.38084071642576|7.288456216637884|\n",
      "|(6,[2],[29967.0])|6.38084071642576|7.288456216637884|\n",
      "|(6,[2],[29967.0])|6.38084071642576|7.288456216637884|\n",
      "|(6,[2],[29967.0])|6.38084071642576|7.288456216637884|\n",
      "|(6,[2],[29967.0])|6.38084071642576|7.288456216637884|\n",
      "|(6,[2],[29967.0])|6.38084071642576|7.288456216637884|\n",
      "|(6,[2],[29967.0])|6.38084071642576|7.288456216637884|\n",
      "|(6,[2],[29967.0])|6.38084071642576|7.288456216637884|\n",
      "|(6,[2],[29967.0])|6.38084071642576|7.288456216637884|\n",
      "|(6,[2],[29967.0])|6.38084071642576|7.288456216637884|\n",
      "|(6,[2],[29967.0])|6.38084071642576|7.288456216637884|\n",
      "|(6,[2],[29967.0])|6.38084071642576|7.288456216637884|\n",
      "|(6,[2],[29967.0])|6.38084071642576|7.288456216637884|\n",
      "|(6,[2],[29967.0])|6.38084071642576|7.288456216637884|\n",
      "|(6,[2],[29967.0])|6.38084071642576|7.288456216637884|\n",
      "|(6,[2],[29967.0])|6.38084071642576|7.288456216637884|\n",
      "|(6,[2],[29967.0])|6.38084071642576|7.288456216637884|\n",
      "|(6,[2],[29967.0])|6.38084071642576|7.288456216637884|\n",
      "|(6,[2],[29967.0])|6.38084071642576|7.288456216637884|\n",
      "+-----------------+----------------+-----------------+\n",
      "only showing top 20 rows\n",
      "\n"
     ]
    }
   ],
   "source": [
    "predictions.show()"
   ]
  },
  {
   "cell_type": "code",
   "execution_count": 97,
   "id": "a080f766-0a5a-4cbc-9294-ae1b7c3e426e",
   "metadata": {},
   "outputs": [
    {
     "data": {
      "image/png": "[encoded data removed]",
      "text/plain": [
       "<Figure size 640x480 with 1 Axes>"
      ]
     },
     "metadata": {},
     "output_type": "display_data"
    }
   ],
   "source": [
    "evaluator = RegressionEvaluator(labelCol=\"Score\", predictionCol=\"prediction\", metricName=\"rmse\")\n",
    "\n",
    "rmse = evaluator.evaluate(predictions)\n",
    "\n",
    "lrPred = lr_model.transform(final_data)\n",
    "lrResult = lrPred.sample(withReplacement=False, fraction=0.001, seed=None).toPandas()\n",
    "\n",
    "plt.plot(lrResult.Score, lrResult.prediction, 'bo')\n",
    "plt.xlabel('Score')\n",
    "plt.ylabel('Prediction')\n",
    "plt.suptitle(\"Model Performance RMSE: %f\" % rmse)\n",
    "plt.show()"
   ]
  },
  {
   "cell_type": "code",
   "execution_count": 94,
   "id": "4b78a54a-f2e1-45fe-804e-189b739eb734",
   "metadata": {},
   "outputs": [],
   "source": [
    "lr_model.save(\"LR_Model\")"
   ]
  },
  {
   "cell_type": "code",
   "execution_count": 98,
   "id": "3cd6b32a-583c-4173-ba02-87d20b3bcb70",
   "metadata": {},
   "outputs": [
    {
     "name": "stdout",
     "output_type": "stream",
     "text": [
      "[('Score', 8.027317358189091e-05), ('Favorites', 5.2315722353027596e-05), ('Members', 1.796745813693906e-05), ('Popularity', 9.252727507657863e-06), ('Scored By', 4.0977426474365455e-06), ('Rank', 2.397253828358642e-06)]\n"
     ]
    },
    {
     "data": {
      "text/plain": [
       "Text(0.5, 1.0, 'Feature Importances')"
      ]
     },
     "execution_count": 98,
     "metadata": {},
     "output_type": "execute_result"
    },
    {
     "data": {
      "image/png": "[encoded data removed]",
      "text/plain": [
       "<Figure size 640x480 with 1 Axes>"
      ]
     },
     "metadata": {},
     "output_type": "display_data"
    }
   ],
   "source": [
    "importances = sorted(list(zip(df.columns[:-1], map(abs, lr_model.coefficients))), key=lambda x: x[1], reverse=True)\n",
    "print(importances)\n",
    "values = [tup[1] for tup in importances]\n",
    "\n",
    "x_values = list(range(len(importances)))\n",
    "plt.bar(x_values, values, orientation = 'vertical')\n",
    "plt.xticks(x_values, input_cols, rotation=40)\n",
    "\n",
    "plt.ylabel('Importance')\n",
    "plt.xlabel('Feature')\n",
    "plt.title('Feature Importances')"
   ]
  },
  {
   "cell_type": "code",
   "execution_count": 99,
   "id": "f3b5c66b-32b6-43e4-818d-c87e250679a1",
   "metadata": {},
   "outputs": [],
   "source": [
    "# 0 - TN\n",
    "# 1 - FP\n",
    "# 2 - FN\n",
    "# 3 - TP\n",
    "predictions = predictions.withColumn(\"result\", F.when((predictions[\"Score\"] >= 7) & (predictions[\"prediction\"] >= 7), 3) \\\n",
    "                                                .when((predictions[\"Score\"] >= 7) & (predictions[\"prediction\"] < 7), 2) \\\n",
    "                                                .when((predictions[\"Score\"] < 7) & (predictions[\"prediction\"] >= 7), 1) \\\n",
    "                                                .otherwise(0))"
   ]
  },
  {
   "cell_type": "code",
   "execution_count": 100,
   "id": "48e06ecc-7c86-44e9-aa6f-8c2e42e473d8",
   "metadata": {},
   "outputs": [],
   "source": [
    "tn = predictions.filter(predictions[\"result\"] == 0).count()\n",
    "fp = predictions.filter(predictions[\"result\"] == 1).count()\n",
    "fn = predictions.filter(predictions[\"result\"] == 2).count()\n",
    "tp = predictions.filter(predictions[\"result\"] == 3).count()"
   ]
  },
  {
   "cell_type": "code",
   "execution_count": 101,
   "id": "523a3795-62fb-411c-bd56-0f59e63690a3",
   "metadata": {},
   "outputs": [
    {
     "name": "stdout",
     "output_type": "stream",
     "text": [
      "True negatives: 2446430\n",
      " False negatives: 366116\n",
      " False positives: 27658\n",
      " True positives: 147125\n"
     ]
    }
   ],
   "source": [
    "print(f\"True negatives: {tn}\\n \\\n",
    "False negatives: {fn}\\n \\\n",
    "False positives: {fp}\\n \\\n",
    "True positives: {tp}\")"
   ]
  },
  {
   "cell_type": "code",
   "execution_count": 102,
   "id": "937f397f-ee0d-49e5-a3ab-61cc5de4a713",
   "metadata": {},
   "outputs": [],
   "source": [
    "accuracy = (tn + tp) / (tn + fn + fp + tp)\n",
    "precision = tp / (tp + fp)\n",
    "recall = tp / (tp + fn)\n",
    "f1_score = (2 * precision * recall) / (precision + recall)"
   ]
  },
  {
   "cell_type": "code",
   "execution_count": 103,
   "id": "cf1a1f48-23c7-4f7f-b93e-c529407257c1",
   "metadata": {},
   "outputs": [
    {
     "name": "stdout",
     "output_type": "stream",
     "text": [
      "Accuracy: 0.8681852584700246%\n",
      " Precision: 0.8417580657157733%\n",
      " Recall: 0.2866587041954949%\n",
      " F1-Score: 0.42767403462669906%\n"
     ]
    }
   ],
   "source": [
    "print(f\"Accuracy: {accuracy}%\\n \\\n",
    "Precision: {precision}%\\n \\\n",
    "Recall: {recall}%\\n \\\n",
    "F1-Score: {f1_score}%\")"
   ]
  },
  {
   "cell_type": "markdown",
   "id": "f57f5b90-d00c-4cea-8b6a-7d0de5ccb66a",
   "metadata": {},
   "source": [
    "# Random Forest"
   ]
  },
  {
   "cell_type": "code",
   "execution_count": 19,
   "id": "f3d3bb9b-e805-46f9-891a-5765db1640c3",
   "metadata": {},
   "outputs": [],
   "source": [
    "rf = RandomForestRegressor(labelCol='Score')"
   ]
  },
  {
   "cell_type": "code",
   "execution_count": null,
   "id": "1f08273b-9d71-4cd9-9c06-00ab4c9c3796",
   "metadata": {},
   "outputs": [],
   "source": [
    "from time import time\n",
    "\n",
    "startTime = time()\n",
    "\n",
    "rf_model = rf.fit(train_data)\n",
    "\n",
    "endTime = time()\n",
    "print(f\"{endTime - startTime} seconds\")"
   ]
  },
  {
   "cell_type": "code",
   "execution_count": null,
   "id": "b55d849a-a6e6-4fd0-ac28-18fab6b88964",
   "metadata": {},
   "outputs": [],
   "source": [
    "rf_model = RandomForestRegressionModel.load(\"RF_Model\")"
   ]
  },
  {
   "cell_type": "code",
   "execution_count": 107,
   "id": "b28c806c-5fe1-4bb8-abc6-f07a1c680bcc",
   "metadata": {},
   "outputs": [],
   "source": [
    "predictions_rf = rf_model.transform(test_data)"
   ]
  },
  {
   "cell_type": "code",
   "execution_count": 108,
   "id": "48c6be15-8aed-4b04-a7a2-d155d1e61d23",
   "metadata": {},
   "outputs": [
    {
     "data": {
      "image/png": "[encoded data removed]",
      "text/plain": [
       "<Figure size 640x480 with 1 Axes>"
      ]
     },
     "metadata": {},
     "output_type": "display_data"
    }
   ],
   "source": [
    "evaluator = RegressionEvaluator(labelCol=\"Score\", predictionCol=\"prediction\", metricName=\"rmse\")\n",
    "\n",
    "rmse = evaluator.evaluate(predictions_rf)\n",
    "\n",
    "rfPred = rf_model.transform(final_data)\n",
    "rfResult = rfPred.sample(withReplacement=False, fraction=0.001, seed=None).toPandas()\n",
    "\n",
    "plt.plot(rfResult.Score, rfResult.prediction, 'bo')\n",
    "plt.xlabel('Score')\n",
    "plt.ylabel('Prediction')\n",
    "plt.suptitle(\"Model Performance RMSE: %f\" % rmse)\n",
    "plt.show()"
   ]
  },
  {
   "cell_type": "code",
   "execution_count": 109,
   "id": "ec0c58fd-0fc1-4024-bd71-6c81dd589481",
   "metadata": {},
   "outputs": [
    {
     "data": {
      "text/plain": [
       "Text(0.5, 1.0, 'Feature Importances')"
      ]
     },
     "execution_count": 109,
     "metadata": {},
     "output_type": "execute_result"
    },
    {
     "data": {
      "image/png": "[encoded data removed]",
      "text/plain": [
       "<Figure size 640x480 with 1 Axes>"
      ]
     },
     "metadata": {},
     "output_type": "display_data"
    }
   ],
   "source": [
    "importances = rf_model.featureImportances\n",
    "\n",
    "x_values = list(range(len(importances)))\n",
    "plt.bar(x_values, importances, orientation = 'vertical')\n",
    "plt.xticks(x_values, input_cols, rotation=40)\n",
    "\n",
    "plt.ylabel('Importance')\n",
    "plt.xlabel('Feature')\n",
    "plt.title('Feature Importances')"
   ]
  },
  {
   "cell_type": "code",
   "execution_count": 110,
   "id": "6fa8bb9b-7c62-4bfa-a0f7-61ffcd6d9d55",
   "metadata": {},
   "outputs": [
    {
     "name": "stdout",
     "output_type": "stream",
     "text": [
      "+-----------------+----------------+------------------+\n",
      "|         features|           Score|        prediction|\n",
      "+-----------------+----------------+------------------+\n",
      "|(6,[2],[29967.0])|6.38084071642576|6.3840977051795615|\n",
      "|(6,[2],[29967.0])|6.38084071642576|6.3840977051795615|\n",
      "|(6,[2],[29967.0])|6.38084071642576|6.3840977051795615|\n",
      "|(6,[2],[29967.0])|6.38084071642576|6.3840977051795615|\n",
      "|(6,[2],[29967.0])|6.38084071642576|6.3840977051795615|\n",
      "|(6,[2],[29967.0])|6.38084071642576|6.3840977051795615|\n",
      "|(6,[2],[29967.0])|6.38084071642576|6.3840977051795615|\n",
      "|(6,[2],[29967.0])|6.38084071642576|6.3840977051795615|\n",
      "|(6,[2],[29967.0])|6.38084071642576|6.3840977051795615|\n",
      "|(6,[2],[29967.0])|6.38084071642576|6.3840977051795615|\n",
      "|(6,[2],[29967.0])|6.38084071642576|6.3840977051795615|\n",
      "|(6,[2],[29967.0])|6.38084071642576|6.3840977051795615|\n",
      "|(6,[2],[29967.0])|6.38084071642576|6.3840977051795615|\n",
      "|(6,[2],[29967.0])|6.38084071642576|6.3840977051795615|\n",
      "|(6,[2],[29967.0])|6.38084071642576|6.3840977051795615|\n",
      "|(6,[2],[29967.0])|6.38084071642576|6.3840977051795615|\n",
      "|(6,[2],[29967.0])|6.38084071642576|6.3840977051795615|\n",
      "|(6,[2],[29967.0])|6.38084071642576|6.3840977051795615|\n",
      "|(6,[2],[29967.0])|6.38084071642576|6.3840977051795615|\n",
      "|(6,[2],[29967.0])|6.38084071642576|6.3840977051795615|\n",
      "+-----------------+----------------+------------------+\n",
      "only showing top 20 rows\n",
      "\n"
     ]
    }
   ],
   "source": [
    "predictions_rf.show()"
   ]
  },
  {
   "cell_type": "code",
   "execution_count": 111,
   "id": "e0478b1d-ad2c-4531-84db-abbf7db43652",
   "metadata": {},
   "outputs": [],
   "source": [
    "# 0 - TN\n",
    "# 1 - FP\n",
    "# 2 - FN\n",
    "# 3 - TP\n",
    "predictions_rf = predictions_rf.withColumn(\"result\", F.when((predictions_rf[\"Score\"] >= 7) & (predictions_rf[\"prediction\"] >= 7), 3) \\\n",
    "                                                .when((predictions_rf[\"Score\"] >= 7) & (predictions_rf[\"prediction\"] < 7), 2) \\\n",
    "                                                .when((predictions_rf[\"Score\"] < 7) & (predictions_rf[\"prediction\"] >= 7), 1) \\\n",
    "                                                .otherwise(0))"
   ]
  },
  {
   "cell_type": "code",
   "execution_count": 112,
   "id": "7cdb012b-e12e-43a7-b367-00dfadb96987",
   "metadata": {},
   "outputs": [],
   "source": [
    "tn = predictions_rf.filter(predictions_rf[\"result\"] == 0).count()\n",
    "fp = predictions_rf.filter(predictions_rf[\"result\"] == 1).count()\n",
    "fn = predictions_rf.filter(predictions_rf[\"result\"] == 2).count()\n",
    "tp = predictions_rf.filter(predictions_rf[\"result\"] == 3).count()"
   ]
  },
  {
   "cell_type": "code",
   "execution_count": 113,
   "id": "0f2f1645-3225-464a-84ad-6d93d8ff8b83",
   "metadata": {},
   "outputs": [
    {
     "name": "stdout",
     "output_type": "stream",
     "text": [
      "True negatives: 2469515\n",
      " False negatives: 79940\n",
      " False positives: 4573\n",
      " True positives: 433301\n"
     ]
    }
   ],
   "source": [
    "print(f\"True negatives: {tn}\\n \\\n",
    "False negatives: {fn}\\n \\\n",
    "False positives: {fp}\\n \\\n",
    "True positives: {tp}\")"
   ]
  },
  {
   "cell_type": "code",
   "execution_count": 115,
   "id": "cfe7744a-c3ca-4fb5-a940-7958bd1cf3c7",
   "metadata": {},
   "outputs": [],
   "source": [
    "accuracy = (tn + tp) / (tn + fn + fp + tp)\n",
    "precision = tp / (tp + fp)\n",
    "recall = tp / (tp + fn)\n",
    "f1_score = (2 * precision * recall) / (precision + recall)"
   ]
  },
  {
   "cell_type": "code",
   "execution_count": 116,
   "id": "8fccb4f4-f754-45c6-ba1b-f684b1878f21",
   "metadata": {},
   "outputs": [
    {
     "name": "stdout",
     "output_type": "stream",
     "text": [
      "Accuracy: 0.9717095104021016%\n",
      " Precision: 0.9895563563947619%\n",
      " Recall: 0.8442447115487656%\n",
      " F1-Score: 0.911143237147979%\n"
     ]
    }
   ],
   "source": [
    "print(f\"Accuracy: {accuracy}%\\n \\\n",
    "Precision: {precision}%\\n \\\n",
    "Recall: {recall}%\\n \\\n",
    "F1-Score: {f1_score}%\")"
   ]
  },
  {
   "cell_type": "code",
   "execution_count": 106,
   "id": "144b100e-a657-40ee-92a6-469bd2009baf",
   "metadata": {},
   "outputs": [],
   "source": [
    "rf_model.save(\"RF_Model\")"
   ]
  },
  {
   "cell_type": "markdown",
   "id": "6cbb6c04-ad36-4424-b0d1-fcc65a7ccc41",
   "metadata": {},
   "source": [
    "# Gradient Boosting"
   ]
  },
  {
   "cell_type": "code",
   "execution_count": 17,
   "id": "a7dc78bf-0494-4acf-9aa7-b592da95baa4",
   "metadata": {},
   "outputs": [],
   "source": [
    "gbt = GBTRegressor(labelCol='Score')"
   ]
  },
  {
   "cell_type": "code",
   "execution_count": 18,
   "id": "b376d313-a783-49a4-b6a4-0388114c1bfd",
   "metadata": {},
   "outputs": [
    {
     "name": "stdout",
     "output_type": "stream",
     "text": [
      "5614.59761428833 seconds\n"
     ]
    }
   ],
   "source": [
    "from time import time\n",
    "\n",
    "startTime = time()\n",
    "\n",
    "gbt_model = gbt.fit(train_data)\n",
    "\n",
    "endTime = time()\n",
    "print(f\"{endTime - startTime} seconds\")"
   ]
  },
  {
   "cell_type": "code",
   "execution_count": null,
   "id": "ed018c7c-7daf-4a92-b7f6-c9fba4dca559",
   "metadata": {},
   "outputs": [],
   "source": [
    "gbt_model = GBTRegressionModel.load(\"GBT_Model\")"
   ]
  },
  {
   "cell_type": "code",
   "execution_count": 120,
   "id": "100d122f-44c9-4903-9a08-a8ec10a40fc5",
   "metadata": {},
   "outputs": [],
   "source": [
    "predictions_gbt = gbt_model.transform(test_data)"
   ]
  },
  {
   "cell_type": "code",
   "execution_count": 121,
   "id": "35cf334b-3802-46a9-ab53-c89d5c151850",
   "metadata": {},
   "outputs": [
    {
     "data": {
      "image/png": "[encoded data removed]",
      "text/plain": [
       "<Figure size 640x480 with 1 Axes>"
      ]
     },
     "metadata": {},
     "output_type": "display_data"
    }
   ],
   "source": [
    "evaluator = RegressionEvaluator(labelCol=\"Score\", predictionCol=\"prediction\", metricName=\"rmse\")\n",
    "\n",
    "rmse = evaluator.evaluate(predictions_gbt)\n",
    "\n",
    "gbtPred = gbt_model.transform(final_data)\n",
    "gbtResult = gbtPred.sample(withReplacement=False, fraction=0.001, seed=None).toPandas()\n",
    "\n",
    "plt.plot(gbtResult.Score, gbtResult.prediction, 'bo')\n",
    "plt.xlabel('Score')\n",
    "plt.ylabel('Prediction')\n",
    "plt.suptitle(\"Model Performance RMSE: %f\" % rmse)\n",
    "plt.show()"
   ]
  },
  {
   "cell_type": "code",
   "execution_count": 122,
   "id": "d4bc9bfa-2e0f-4414-a82e-d98a1358709d",
   "metadata": {},
   "outputs": [
    {
     "data": {
      "text/plain": [
       "Text(0.5, 1.0, 'Feature Importances')"
      ]
     },
     "execution_count": 122,
     "metadata": {},
     "output_type": "execute_result"
    },
    {
     "data": {
      "image/png": "[encoded data removed]",
      "text/plain": [
       "<Figure size 640x480 with 1 Axes>"
      ]
     },
     "metadata": {},
     "output_type": "display_data"
    }
   ],
   "source": [
    "importances = gbt_model.featureImportances\n",
    "\n",
    "x_values = list(range(len(importances)))\n",
    "plt.bar(x_values, importances, orientation = 'vertical')\n",
    "plt.xticks(x_values, input_cols, rotation=40)\n",
    "\n",
    "plt.ylabel('Importance')\n",
    "plt.xlabel('Feature')\n",
    "plt.title('Feature Importances')"
   ]
  },
  {
   "cell_type": "code",
   "execution_count": 123,
   "id": "98b9a37a-a5a2-4258-b71d-e75a3c261d09",
   "metadata": {},
   "outputs": [
    {
     "name": "stdout",
     "output_type": "stream",
     "text": [
      "+-----------------+----------------+-----------------+\n",
      "|         features|           Score|       prediction|\n",
      "+-----------------+----------------+-----------------+\n",
      "|(6,[2],[29967.0])|6.38084071642576|6.386608388134222|\n",
      "|(6,[2],[29967.0])|6.38084071642576|6.386608388134222|\n",
      "|(6,[2],[29967.0])|6.38084071642576|6.386608388134222|\n",
      "|(6,[2],[29967.0])|6.38084071642576|6.386608388134222|\n",
      "|(6,[2],[29967.0])|6.38084071642576|6.386608388134222|\n",
      "|(6,[2],[29967.0])|6.38084071642576|6.386608388134222|\n",
      "|(6,[2],[29967.0])|6.38084071642576|6.386608388134222|\n",
      "|(6,[2],[29967.0])|6.38084071642576|6.386608388134222|\n",
      "|(6,[2],[29967.0])|6.38084071642576|6.386608388134222|\n",
      "|(6,[2],[29967.0])|6.38084071642576|6.386608388134222|\n",
      "|(6,[2],[29967.0])|6.38084071642576|6.386608388134222|\n",
      "|(6,[2],[29967.0])|6.38084071642576|6.386608388134222|\n",
      "|(6,[2],[29967.0])|6.38084071642576|6.386608388134222|\n",
      "|(6,[2],[29967.0])|6.38084071642576|6.386608388134222|\n",
      "|(6,[2],[29967.0])|6.38084071642576|6.386608388134222|\n",
      "|(6,[2],[29967.0])|6.38084071642576|6.386608388134222|\n",
      "|(6,[2],[29967.0])|6.38084071642576|6.386608388134222|\n",
      "|(6,[2],[29967.0])|6.38084071642576|6.386608388134222|\n",
      "|(6,[2],[29967.0])|6.38084071642576|6.386608388134222|\n",
      "|(6,[2],[29967.0])|6.38084071642576|6.386608388134222|\n",
      "+-----------------+----------------+-----------------+\n",
      "only showing top 20 rows\n",
      "\n"
     ]
    }
   ],
   "source": [
    "predictions_gbt.show()"
   ]
  },
  {
   "cell_type": "code",
   "execution_count": 124,
   "id": "caa1a25b-c0ed-45ad-b35c-9e261915a09e",
   "metadata": {},
   "outputs": [],
   "source": [
    "# 0 - TN\n",
    "# 1 - FP\n",
    "# 2 - FN\n",
    "# 3 - TP\n",
    "predictions_gbt = predictions_gbt.withColumn(\"result\", F.when((predictions_gbt[\"Score\"] >= 7) & (predictions_gbt[\"prediction\"] >= 7), 3) \\\n",
    "                                                .when((predictions_gbt[\"Score\"] >= 7) & (predictions_gbt[\"prediction\"] < 7), 2) \\\n",
    "                                                .when((predictions_gbt[\"Score\"] < 7) & (predictions_gbt[\"prediction\"] >= 7), 1) \\\n",
    "                                                .otherwise(0))"
   ]
  },
  {
   "cell_type": "code",
   "execution_count": 125,
   "id": "12d9e5d3-9472-4171-80eb-8e1cb47a698b",
   "metadata": {},
   "outputs": [],
   "source": [
    "tn = predictions_gbt.filter(predictions_gbt[\"result\"] == 0).count()\n",
    "fp = predictions_gbt.filter(predictions_gbt[\"result\"] == 1).count()\n",
    "fn = predictions_gbt.filter(predictions_gbt[\"result\"] == 2).count()\n",
    "tp = predictions_gbt.filter(predictions_gbt[\"result\"] == 3).count()"
   ]
  },
  {
   "cell_type": "code",
   "execution_count": 126,
   "id": "98e63d12-496c-403d-ac71-c611d21ab14c",
   "metadata": {},
   "outputs": [
    {
     "name": "stdout",
     "output_type": "stream",
     "text": [
      "True negatives: 2443696\n",
      " False negatives: 39836\n",
      " False positives: 30392\n",
      " True positives: 473405\n"
     ]
    }
   ],
   "source": [
    "print(f\"True negatives: {tn}\\n \\\n",
    "False negatives: {fn}\\n \\\n",
    "False positives: {fp}\\n \\\n",
    "True positives: {tp}\")"
   ]
  },
  {
   "cell_type": "code",
   "execution_count": 127,
   "id": "bd5995c8-7ec7-49ce-8d54-0e7609615ed7",
   "metadata": {},
   "outputs": [],
   "source": [
    "accuracy = (tn + tp) / (tn + fn + fp + tp)\n",
    "precision = tp / (tp + fp)\n",
    "recall = tp / (tp + fn)\n",
    "f1_score = (2 * precision * recall) / (precision + recall)"
   ]
  },
  {
   "cell_type": "code",
   "execution_count": 128,
   "id": "3d22623f-2555-495d-ad1d-f468cb31b953",
   "metadata": {},
   "outputs": [
    {
     "name": "stdout",
     "output_type": "stream",
     "text": [
      "Accuracy: 0.9764913740669341%\n",
      " Precision: 0.9396741147724182%\n",
      " Recall: 0.9223834416969806%\n",
      " F1-Score: 0.9309484994660967%\n"
     ]
    }
   ],
   "source": [
    "print(f\"Accuracy: {accuracy}%\\n \\\n",
    "Precision: {precision}%\\n \\\n",
    "Recall: {recall}%\\n \\\n",
    "F1-Score: {f1_score}%\")"
   ]
  },
  {
   "cell_type": "code",
   "execution_count": 119,
   "id": "ebc7ecb7-eae7-40db-8c23-3a72acc6f148",
   "metadata": {},
   "outputs": [],
   "source": [
    "gbt_model.save(\"GBT_Model\")"
   ]
  },
  {
   "cell_type": "code",
   "execution_count": null,
   "id": "65d37ffe-c564-4f0c-9341-0893c1d67127",
   "metadata": {},
   "outputs": [],
   "source": []
  }
 ],
 "metadata": {
  "kernelspec": {
   "display_name": "Python 3 (ipykernel)",
   "language": "python",
   "name": "python3"
  },
  "language_info": {
   "codemirror_mode": {
    "name": "ipython",
    "version": 3
   },
   "file_extension": ".py",
   "mimetype": "text/x-python",
   "name": "python",
   "nbconvert_exporter": "python",
   "pygments_lexer": "ipython3",
   "version": "3.8.10"
  }
 },
 "nbformat": 4,
 "nbformat_minor": 5
}
